{
 "cells": [
  {
   "cell_type": "markdown",
   "metadata": {
    "id": "9w67mZW1i333",
    "tags": []
   },
   "source": [
    "## imports"
   ]
  },
  {
   "cell_type": "code",
   "execution_count": 2,
   "metadata": {
    "id": "Ohy-uGrhk_6j"
   },
   "outputs": [],
   "source": [
    "import pickle\n",
    "import numpy as np\n",
    "from sklearn.cluster import KMeans\n",
    "from sklearn.preprocessing import MinMaxScaler\n",
    "from sklearn.cluster import KMeans\n",
    "import cv2\n",
    "import numpy as np\n",
    "import colorsys"
   ]
  },
  {
   "cell_type": "markdown",
   "metadata": {},
   "source": [
    "# Part 1"
   ]
  },
  {
   "cell_type": "markdown",
   "metadata": {
    "id": "ES23zLXhi34A",
    "jp-MarkdownHeadingCollapsed": true
   },
   "source": [
    "## load dataset"
   ]
  },
  {
   "cell_type": "code",
   "execution_count": 3,
   "metadata": {
    "id": "5C72evWemRM_"
   },
   "outputs": [],
   "source": [
    "def load_dataset():\n",
    "  image_pickle_file_path = 'images.pkl'\n",
    "  label_pickle_file_path = 'label.pkl'\n",
    "\n",
    "  with open(image_pickle_file_path, 'rb') as file:\n",
    "    images = pickle.load(file)\n",
    "\n",
    "  with open(label_pickle_file_path, 'rb') as file:\n",
    "    labels = pickle.load(file)\n",
    "\n",
    "  # images = images.reshape(images.shape[0], -1)\n",
    "\n",
    "  return images, labels"
   ]
  },
  {
   "cell_type": "code",
   "execution_count": 4,
   "metadata": {
    "id": "PegQSxmRnEAU"
   },
   "outputs": [],
   "source": [
    "images, labels = load_dataset()\n",
    "random_indices = np.random.choice(560, size=10, replace=False)\n",
    "# Extract the randomly selected values\n",
    "random_values = images[random_indices]\n",
    "\n",
    "from dataclasses import dataclass, field\n",
    "\n",
    "\n",
    "@dataclass\n",
    "class Images:\n",
    "    image: np.ndarray = None\n",
    "    original_features = []\n",
    "    features = []\n",
    "    clusters = None\n",
    "\n",
    "\n"
   ]
  },
  {
   "cell_type": "markdown",
   "metadata": {
    "id": "p4EkzGxIi34C"
   },
   "source": [
    "## Proccess on images\n",
    "- Extract features\n",
    "- normalize features\n",
    "- make features a single dimnetion vector"
   ]
  },
  {
   "cell_type": "code",
   "execution_count": 5,
   "metadata": {
    "id": "niz6RZqTi34D"
   },
   "outputs": [],
   "source": [
    "def extract_features(image):\n",
    "    features = []\n",
    "    original_features = []\n",
    "\n",
    "    img_hsv = cv2.cvtColor(image, cv2.COLOR_BGR2HSV)\n",
    "\n",
    "    # For each pixel in the image\n",
    "    for i in range(img_hsv.shape[0]):\n",
    "        for j in range(img_hsv.shape[1]):\n",
    "            pixel = img_hsv[i, j]\n",
    "            h, s, v = pixel\n",
    "            x, y = i, j\n",
    "            \n",
    "            features.append((h, s, v, x, y))\n",
    "\n",
    "    return features, img_hsv"
   ]
  },
  {
   "cell_type": "code",
   "execution_count": 6,
   "metadata": {
    "id": "thgfwhB_i34F"
   },
   "outputs": [],
   "source": [
    "def normalize_features(features):\n",
    "    features_array = np.array(features)\n",
    "    scaler = MinMaxScaler()\n",
    "    normalized_features_array = scaler.fit_transform(features_array)\n",
    "    normalized_features = normalized_features_array.tolist()\n",
    "    return normalized_features"
   ]
  },
  {
   "cell_type": "code",
   "execution_count": 7,
   "metadata": {
    "colab": {
     "base_uri": "https://localhost:8080/"
    },
    "id": "4zo_qGUNi34H",
    "outputId": "44412444-40e7-41ab-e547-d11217b7b25f"
   },
   "outputs": [],
   "source": [
    "new_features = []\n",
    "hsv_random_values = []\n",
    "\n",
    "for img in random_values:\n",
    "    features, img_hsv = extract_features(img)\n",
    "    new_features.append(features)\n",
    "    hsv_random_values.append(img_hsv)"
   ]
  },
  {
   "cell_type": "code",
   "execution_count": 8,
   "metadata": {
    "id": "D_vQuK0ii34J"
   },
   "outputs": [],
   "source": [
    "# normalize features\n",
    "for i, fimg in enumerate(new_features):\n",
    "    new_features[i] = normalize_features(fimg)"
   ]
  },
  {
   "cell_type": "code",
   "execution_count": 38,
   "metadata": {},
   "outputs": [],
   "source": [
    "def set_priority(arr, color, pos):\n",
    "    color_columns = np.tile(arr[:, :3], (1, color))\n",
    "    pos_columns = np.tile(arr[:, 3:], (1, pos))\n",
    "    duplicated_arr = np.concatenate((color_columns, pos_columns), axis=1)\n",
    "\n",
    "    return duplicated_arr"
   ]
  },
  {
   "cell_type": "code",
   "execution_count": 67,
   "metadata": {},
   "outputs": [],
   "source": [
    "new_features_freq = []\n",
    "for nf in new_features:\n",
    "    new_features_freq.append(set_priority(np.array(nf), 4, 2).tolist())"
   ]
  },
  {
   "cell_type": "markdown",
   "metadata": {
    "id": "b4kDj4dsi34K"
   },
   "source": [
    "## clustering"
   ]
  },
  {
   "cell_type": "markdown",
   "metadata": {
    "id": "2yxNa4MT9EQ_",
    "jp-MarkdownHeadingCollapsed": true
   },
   "source": [
    "### k-means"
   ]
  },
  {
   "cell_type": "code",
   "execution_count": 68,
   "metadata": {
    "id": "g3BrJgCQi34K"
   },
   "outputs": [
    {
     "name": "stderr",
     "output_type": "stream",
     "text": [
      "c:\\Users\\ewint\\AppData\\Local\\Programs\\Python\\Python310\\lib\\site-packages\\sklearn\\cluster\\_kmeans.py:1416: FutureWarning: The default value of `n_init` will change from 10 to 'auto' in 1.4. Set the value of `n_init` explicitly to suppress the warning\n",
      "  super()._check_params_vs_input(X, default_n_init=10)\n",
      "c:\\Users\\ewint\\AppData\\Local\\Programs\\Python\\Python310\\lib\\site-packages\\sklearn\\cluster\\_kmeans.py:1416: FutureWarning: The default value of `n_init` will change from 10 to 'auto' in 1.4. Set the value of `n_init` explicitly to suppress the warning\n",
      "  super()._check_params_vs_input(X, default_n_init=10)\n",
      "c:\\Users\\ewint\\AppData\\Local\\Programs\\Python\\Python310\\lib\\site-packages\\sklearn\\cluster\\_kmeans.py:1416: FutureWarning: The default value of `n_init` will change from 10 to 'auto' in 1.4. Set the value of `n_init` explicitly to suppress the warning\n",
      "  super()._check_params_vs_input(X, default_n_init=10)\n",
      "c:\\Users\\ewint\\AppData\\Local\\Programs\\Python\\Python310\\lib\\site-packages\\sklearn\\cluster\\_kmeans.py:1416: FutureWarning: The default value of `n_init` will change from 10 to 'auto' in 1.4. Set the value of `n_init` explicitly to suppress the warning\n",
      "  super()._check_params_vs_input(X, default_n_init=10)\n",
      "c:\\Users\\ewint\\AppData\\Local\\Programs\\Python\\Python310\\lib\\site-packages\\sklearn\\cluster\\_kmeans.py:1416: FutureWarning: The default value of `n_init` will change from 10 to 'auto' in 1.4. Set the value of `n_init` explicitly to suppress the warning\n",
      "  super()._check_params_vs_input(X, default_n_init=10)\n",
      "c:\\Users\\ewint\\AppData\\Local\\Programs\\Python\\Python310\\lib\\site-packages\\sklearn\\cluster\\_kmeans.py:1416: FutureWarning: The default value of `n_init` will change from 10 to 'auto' in 1.4. Set the value of `n_init` explicitly to suppress the warning\n",
      "  super()._check_params_vs_input(X, default_n_init=10)\n",
      "c:\\Users\\ewint\\AppData\\Local\\Programs\\Python\\Python310\\lib\\site-packages\\sklearn\\cluster\\_kmeans.py:1416: FutureWarning: The default value of `n_init` will change from 10 to 'auto' in 1.4. Set the value of `n_init` explicitly to suppress the warning\n",
      "  super()._check_params_vs_input(X, default_n_init=10)\n",
      "c:\\Users\\ewint\\AppData\\Local\\Programs\\Python\\Python310\\lib\\site-packages\\sklearn\\cluster\\_kmeans.py:1416: FutureWarning: The default value of `n_init` will change from 10 to 'auto' in 1.4. Set the value of `n_init` explicitly to suppress the warning\n",
      "  super()._check_params_vs_input(X, default_n_init=10)\n",
      "c:\\Users\\ewint\\AppData\\Local\\Programs\\Python\\Python310\\lib\\site-packages\\sklearn\\cluster\\_kmeans.py:1416: FutureWarning: The default value of `n_init` will change from 10 to 'auto' in 1.4. Set the value of `n_init` explicitly to suppress the warning\n",
      "  super()._check_params_vs_input(X, default_n_init=10)\n",
      "c:\\Users\\ewint\\AppData\\Local\\Programs\\Python\\Python310\\lib\\site-packages\\sklearn\\cluster\\_kmeans.py:1416: FutureWarning: The default value of `n_init` will change from 10 to 'auto' in 1.4. Set the value of `n_init` explicitly to suppress the warning\n",
      "  super()._check_params_vs_input(X, default_n_init=10)\n"
     ]
    }
   ],
   "source": [
    "kmeans = KMeans(n_clusters=15)\n",
    "new_clusters = []\n",
    "for nf in new_features_freq:\n",
    "    clusters = kmeans.fit_predict(nf)\n",
    "    new_clusters.append(clusters)"
   ]
  },
  {
   "cell_type": "code",
   "execution_count": 69,
   "metadata": {},
   "outputs": [],
   "source": [
    "for i, nc in enumerate(new_clusters):\n",
    "    new_clusters[i] = nc.reshape(random_values.shape[1], random_values.shape[2])"
   ]
  },
  {
   "cell_type": "markdown",
   "metadata": {
    "id": "Zi_CypDqi34L"
   },
   "source": [
    "## extracting clusters features for each image sepratedly"
   ]
  },
  {
   "cell_type": "code",
   "execution_count": 70,
   "metadata": {},
   "outputs": [],
   "source": [
    "def find_matching_triads(array1, array2):   \n",
    "\n",
    "    unique_values = np.unique(array1)\n",
    "    result = []\n",
    "\n",
    "    for value in unique_values:\n",
    "        indexes = np.where(array1 == value)[0]\n",
    "        triads = array2[indexes, :].tolist()\n",
    "        result.append(triads)\n",
    "        \n",
    "    return result"
   ]
  },
  {
   "cell_type": "markdown",
   "metadata": {},
   "source": [
    "### mean color for each cluster in each image"
   ]
  },
  {
   "cell_type": "code",
   "execution_count": 71,
   "metadata": {},
   "outputs": [],
   "source": [
    "def calculate_mean(data):\n",
    "\n",
    "    data_array = np.array(data)\n",
    "    mean_values = np.mean(data_array, axis=0)\n",
    "    mean_values = mean_values.astype(int)\n",
    "    mean_values_list = mean_values.tolist()\n",
    "    \n",
    "    return mean_values_list"
   ]
  },
  {
   "cell_type": "code",
   "execution_count": 72,
   "metadata": {},
   "outputs": [],
   "source": [
    "def mean_clusters_each_image(new_cls, random_values):\n",
    "\n",
    "    all_images_mean_values = []\n",
    "    \n",
    "    for i, image_cls in enumerate(new_cls):\n",
    "\n",
    "        one_image_clusters_mean_values = []\n",
    "        reshaped_image_cls = image_cls.reshape(image_cls.shape[0] * image_cls.shape[1])\n",
    "        reshaped_random_value = random_values[i].reshape(random_values.shape[1] * random_values.shape[2], random_values.shape[3])\n",
    "\n",
    "        similar_clusters_pixels = find_matching_triads(reshaped_image_cls, reshaped_random_value)\n",
    "\n",
    "        for smp in similar_clusters_pixels:\n",
    "            one_image_clusters_mean_values.append(calculate_mean(smp))\n",
    "\n",
    "        all_images_mean_values.append(one_image_clusters_mean_values)\n",
    "\n",
    "    return all_images_mean_values"
   ]
  },
  {
   "cell_type": "code",
   "execution_count": 73,
   "metadata": {},
   "outputs": [],
   "source": [
    "mean_each_cluster_each_image = mean_clusters_each_image(new_clusters, random_values)"
   ]
  },
  {
   "cell_type": "markdown",
   "metadata": {},
   "source": [
    "### variance color for each cluster in each image"
   ]
  },
  {
   "cell_type": "code",
   "execution_count": null,
   "metadata": {},
   "outputs": [],
   "source": [
    "def calculate_var(data):\n",
    "\n",
    "    data_array = np.array(data)\n",
    "    var_values = np.var(data_array, axis=0)\n",
    "    var_values = var_values.astype(int)\n",
    "    var_values_list = var_values.tolist()\n",
    "    \n",
    "    return var_values_list"
   ]
  },
  {
   "cell_type": "code",
   "execution_count": null,
   "metadata": {},
   "outputs": [],
   "source": [
    "def var_clusters_each_image(new_cls, random_values):\n",
    "\n",
    "    all_images_var_values = []\n",
    "\n",
    "\n",
    "    for i, image_cls in enumerate(new_cls):\n",
    "\n",
    "        one_image_clusters_var_values = []\n",
    "        reshaped_image_cls = image_cls.reshape(image_cls.shape[0] * image_cls.shape[1])\n",
    "        reshaped_random_value = random_values[i].reshape(random_values.shape[1] * random_values.shape[2], random_values.shape[3])\n",
    "\n",
    "        similar_clusters_pixels = find_matching_triads(reshaped_image_cls, reshaped_random_value)\n",
    "\n",
    "        for smp in similar_clusters_pixels:\n",
    "            one_image_clusters_var_values.append(calculate_var(smp))\n",
    "\n",
    "        all_images_var_values.append(one_image_clusters_var_values)\n",
    "\n",
    "    return all_images_var_values"
   ]
  },
  {
   "cell_type": "code",
   "execution_count": null,
   "metadata": {},
   "outputs": [],
   "source": [
    "var_each_cluster_each_image = var_clusters_each_image(new_clusters, random_values)"
   ]
  },
  {
   "cell_type": "markdown",
   "metadata": {},
   "source": [
    "### size of clusters in each image"
   ]
  },
  {
   "cell_type": "code",
   "execution_count": null,
   "metadata": {},
   "outputs": [],
   "source": [
    "def calculate_size(image_clusters):\n",
    "\n",
    "    unique_clusters, counts = np.unique(image_clusters, return_counts=True)\n",
    "    each_clusters_size = counts\n",
    "\n",
    "    return each_clusters_size"
   ]
  },
  {
   "cell_type": "code",
   "execution_count": null,
   "metadata": {},
   "outputs": [],
   "source": [
    "size_each_cluster_each_image = []\n",
    "\n",
    "for image_clusters in new_clusters:\n",
    "    size_each_cluster_each_image.append(calculate_size(image_clusters))"
   ]
  },
  {
   "cell_type": "markdown",
   "metadata": {},
   "source": [
    "## display clustering"
   ]
  },
  {
   "cell_type": "code",
   "execution_count": 74,
   "metadata": {},
   "outputs": [],
   "source": [
    "def display_clustering(image_clusters, each_cluster_color, image_index):\n",
    "    # Create an empty array to hold the HSV values for each pixel\n",
    "    rgb_image = np.zeros((image_clusters.shape[0], image_clusters.shape[1], 3), dtype=np.uint8)\n",
    "\n",
    "    # Assign the corresponding HSV values to each pixel\n",
    "    for i in range(image_clusters.shape[0]):\n",
    "        for j in range(image_clusters.shape[1]):\n",
    "            value = image_clusters[i, j] \n",
    "            hsv = each_cluster_color[value]\n",
    "            # rgb = colorsys.hsv_to_rgb(hsv[0] / 360, hsv[1] / 100, hsv[2] / 100)\n",
    "            # rgb_image[i, j] = np.round(np.array(rgb) * 255).astype(int)\n",
    "            rgb_image[i, j] = hsv\n",
    "\n",
    "    # Display the image with corresponding RGB values using cv2.imshow\n",
    "    cv2.imshow('org', random_values[image_index])\n",
    "    cv2.imshow('Image with Corresponding RGB Values', cv2.cvtColor(rgb_image, cv2.COLOR_RGB2BGR))\n",
    "\n",
    "    cv2.waitKey(0)\n",
    "    cv2.destroyAllWindows()"
   ]
  },
  {
   "cell_type": "code",
   "execution_count": 77,
   "metadata": {},
   "outputs": [],
   "source": [
    "each_cluster_color = [\n",
    "    [255, 0, 0],    # Red\n",
    "    [0, 255, 0],    # Green\n",
    "    [0, 0, 255],    # Blue\n",
    "    [255, 255, 0],  # Yellow\n",
    "    [255, 0, 255],  # Magenta\n",
    "    [0, 255, 255],  # Cyan\n",
    "    [128, 0, 0],    # Maroon\n",
    "    [0, 128, 0],    # Green (Dark)\n",
    "    [0, 0, 128],    # Navy\n",
    "    [128, 128, 128], # Gray\n",
    "    [255, 128, 0],  # Orange\n",
    "    [128, 0, 128],  # Purple\n",
    "    [0, 128, 128],  # Teal\n",
    "    [128, 128, 0],  # Olive\n",
    "    [192, 192, 192]  # Silver\n",
    "]"
   ]
  },
  {
   "cell_type": "code",
   "execution_count": 78,
   "metadata": {},
   "outputs": [],
   "source": [
    "for i, img_clusters in enumerate(new_clusters):\n",
    "    display_clustering(img_clusters, each_cluster_color, i)"
   ]
  },
  {
   "cell_type": "markdown",
   "metadata": {},
   "source": [
    "# Part 2"
   ]
  },
  {
   "cell_type": "markdown",
   "metadata": {
    "id": "VFn0nBVDi34f"
   },
   "source": [
    "## create clusters feature vectors "
   ]
  },
  {
   "cell_type": "code",
   "execution_count": null,
   "metadata": {
    "id": "11jURYBei34f"
   },
   "outputs": [],
   "source": [
    "def create_clusters_vector(clusters_mean, clusters_variance):\n",
    "    result = []\n",
    "    for mean, variance in zip(clusters_mean, clusters_variance):\n",
    "        if (len(mean) != 10 or len(variance) != 10):\n",
    "            print(\"Jib\")\n",
    "            continue\n",
    "        for i in range(10):\n",
    "            result.append([*mean[i], *variance[i]])\n",
    "    return result"
   ]
  },
  {
   "cell_type": "code",
   "execution_count": null,
   "metadata": {
    "id": "kdoWEeURi34g"
   },
   "outputs": [],
   "source": [
    "def flatten_nested_list(nested_list):\n",
    "    return [[item for sublist in lst for item in (sublist if isinstance(sublist, list) else [sublist])] for lst in nested_list]"
   ]
  },
  {
   "cell_type": "code",
   "execution_count": null,
   "metadata": {
    "id": "XxDRoNKmi34g"
   },
   "outputs": [],
   "source": [
    "clusters_features = create_clusters_vector(mean_color_each_cluster_each_image, var_color_each_cluster_each_image)\n",
    "# clusters_features = flatten_nested_list(clusters_features)\n",
    "clusters_featuresss = np.array(clusters_features)\n",
    "clusters_featuresss"
   ]
  },
  {
   "cell_type": "markdown",
   "metadata": {
    "id": "EZnhtPpgi34g"
   },
   "source": [
    "## clustering clusters"
   ]
  },
  {
   "cell_type": "code",
   "execution_count": null,
   "metadata": {
    "id": "UJlojCZci34h"
   },
   "outputs": [],
   "source": [
    "kmeans_2 = KMeans(n_clusters=3)\n",
    "clusters_features_flat = [np.concatenate([np.array(item[:-1]), item[-1]]) for item in clusters_features]\n",
    "clusters_2 = kmeans.fit_predict(clusters_features_flat)\n",
    "# clusters_2 = kmeans.fit_predict(clusters_features)\n",
    "clusters_2"
   ]
  },
  {
   "cell_type": "markdown",
   "metadata": {
    "id": "o6onYuxUi34h"
   },
   "source": [
    "## Diaplay clustered cluster"
   ]
  },
  {
   "cell_type": "code",
   "execution_count": null,
   "metadata": {},
   "outputs": [],
   "source": [
    "import matplotlib.pyplot as plt\n",
    "from sklearn.decomposition import PCA\n",
    "pca = PCA(2)\n",
    "data_transformed = pca.fit_transform(clusters_features_flat)\n",
    "\n",
    "plt.scatter(data_transformed[:, 0], data_transformed[:, 1], c=clusters_2)\n",
    "plt.show()\n"
   ]
  }
 ],
 "metadata": {
  "accelerator": "GPU",
  "colab": {
   "collapsed_sections": [
    "3mVvdAtI9ONL",
    "lBEBJMkk9Tsz",
    "UcQ9WDY59Zlb",
    "06xiqibEqHid",
    "aWfpqHU1qPh4"
   ],
   "gpuType": "T4",
   "provenance": []
  },
  "kernelspec": {
   "display_name": "Python 3 (ipykernel)",
   "language": "python",
   "name": "python3"
  },
  "language_info": {
   "codemirror_mode": {
    "name": "ipython",
    "version": 3
   },
   "file_extension": ".py",
   "mimetype": "text/x-python",
   "name": "python",
   "nbconvert_exporter": "python",
   "pygments_lexer": "ipython3",
   "version": "3.10.5"
  }
 },
 "nbformat": 4,
 "nbformat_minor": 4
}
