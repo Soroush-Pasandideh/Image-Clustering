{
 "cells": [
  {
   "cell_type": "markdown",
   "metadata": {
    "id": "9w67mZW1i333",
    "tags": []
   },
   "source": [
    "## imports"
   ]
  },
  {
   "cell_type": "code",
   "execution_count": null,
   "metadata": {
    "id": "Ohy-uGrhk_6j"
   },
   "outputs": [],
   "source": [
    "import pickle\n",
    "import numpy as np\n",
    "from sklearn.cluster import KMeans\n",
    "from sklearn.preprocessing import MinMaxScaler, StandardScaler\n",
    "from sklearn.cluster import KMeans\n",
    "from sklearn.metrics import accuracy_score\n",
    "from sklearn.model_selection import train_test_split\n",
    "from sklearn.cluster import DBSCAN\n",
    "import cv2\n",
    "import random"
   ]
  },
  {
   "cell_type": "markdown",
   "metadata": {},
   "source": [
    "# Part 1"
   ]
  },
  {
   "cell_type": "markdown",
   "metadata": {
    "id": "ES23zLXhi34A",
    "jp-MarkdownHeadingCollapsed": true
   },
   "source": [
    "## load dataset"
   ]
  },
  {
   "cell_type": "code",
   "execution_count": null,
   "metadata": {
    "id": "5C72evWemRM_"
   },
   "outputs": [],
   "source": [
    "def load_dataset():\n",
    "  image_pickle_file_path = 'images.pkl'\n",
    "  label_pickle_file_path = 'label.pkl'\n",
    "\n",
    "  with open(image_pickle_file_path, 'rb') as file:\n",
    "    images = pickle.load(file)\n",
    "\n",
    "  with open(label_pickle_file_path, 'rb') as file:\n",
    "    labels = pickle.load(file)\n",
    "\n",
    "  # images = images.reshape(images.shape[0], -1)\n",
    "\n",
    "  return images, labels"
   ]
  },
  {
   "cell_type": "code",
   "execution_count": null,
   "metadata": {
    "id": "PegQSxmRnEAU"
   },
   "outputs": [],
   "source": [
    "images, labels = load_dataset()\n",
    "random_indices = np.random.choice(560, size=15, replace=False)\n",
    "# Extract the randomly selected values\n",
    "random_values = images[random_indices]\n"
   ]
  },
  {
   "cell_type": "markdown",
   "metadata": {
    "id": "p4EkzGxIi34C"
   },
   "source": [
    "## Proccess on images\n",
    "- Extract features\n",
    "- normalize features\n",
    "- make features a single dimnetion vector"
   ]
  },
  {
   "cell_type": "code",
   "execution_count": null,
   "metadata": {},
   "outputs": [],
   "source": [
    "from dataclasses import dataclass\n",
    "\n",
    "\n",
    "@dataclass\n",
    "class Image:\n",
    "    image = None\n",
    "    features = None\n",
    "    clusters = None\n",
    "\n",
    "class ImageProccess:\n",
    "    image_: Image\n",
    "\n",
    "    def extract_features(self):\n",
    "        ...\n",
    "\n",
    "    def normalize_features(self):\n",
    "        ...\n"
   ]
  },
  {
   "cell_type": "code",
   "execution_count": null,
   "metadata": {
    "id": "niz6RZqTi34D"
   },
   "outputs": [],
   "source": [
    "def extract_features(image):\n",
    "    features = []\n",
    "    original_features = []\n",
    "\n",
    "    # height, width, _ = image.shape\n",
    "    img_hsv = cv2.cvtColor(image, cv2.COLOR_BGR2HSV)\n",
    "\n",
    "    # For each pixel in the image\n",
    "    for i in range(img_hsv.shape[0]):\n",
    "        for j in range(img_hsv.shape[1]):\n",
    "            pixel = img_hsv[i, j]\n",
    "            h, s, v = pixel\n",
    "            x, y = i, j\n",
    "\n",
    "            original_features.append((h,s,v,x,y))\n",
    "\n",
    "            h_weight = 10\n",
    "            s_weight = 1\n",
    "            v_weight = 1\n",
    "            x_weight = 0\n",
    "            y_weight = 0\n",
    "            h, s, v = h * h_weight, s * s_weight, v * v_weight\n",
    "            x, y = x * x_weight, y * y_weight\n",
    "\n",
    "            features.append((h, s, v, x, y))\n",
    "\n",
    "    return features, original_features"
   ]
  },
  {
   "cell_type": "code",
   "execution_count": null,
   "metadata": {
    "id": "thgfwhB_i34F"
   },
   "outputs": [],
   "source": [
    "def normalize_features(features):\n",
    "    features_array = np.array(features)\n",
    "    scaler = StandardScaler()\n",
    "    normalized_features_array = scaler.fit_transform(features_array)\n",
    "    normalized_features = normalized_features_array.tolist()\n",
    "    return normalized_features"
   ]
  },
  {
   "cell_type": "code",
   "execution_count": null,
   "metadata": {
    "id": "JPSriJDwi34G"
   },
   "outputs": [],
   "source": [
    "# def process_images_in_chunks(images, chunk_size):\n",
    "#     features = []\n",
    "#     original_features = []\n",
    "#     num_images = len(images)\n",
    "\n",
    "#     for i in range(0, num_images, chunk_size):\n",
    "#         # Extract features for a chunk of images\n",
    "#         chunk_features, chunk_original_features = extract_features(images[i:i+chunk_size])\n",
    "\n",
    "#         # Append the features to the overall features list\n",
    "#         features.extend(chunk_features)\n",
    "#         original_features.extend(chunk_original_features)\n",
    "\n",
    "#         print('<<', i, '>>')\n",
    "\n",
    "#     return features, original_features\n"
   ]
  },
  {
   "cell_type": "code",
   "execution_count": null,
   "metadata": {
    "colab": {
     "base_uri": "https://localhost:8080/"
    },
    "id": "4zo_qGUNi34H",
    "outputId": "44412444-40e7-41ab-e547-d11217b7b25f"
   },
   "outputs": [],
   "source": [
    "# extract features\n",
    "# chunk_size = 10\n",
    "# features, original_features = process_images_in_chunks(images, chunk_size)\n",
    "\n",
    "new_features = []\n",
    "\n",
    "for img in random_values:\n",
    "    features, original_features = extract_features(img)\n",
    "    new_features.append(features)\n",
    "    "
   ]
  },
  {
   "cell_type": "code",
   "execution_count": null,
   "metadata": {
    "id": "D_vQuK0ii34J"
   },
   "outputs": [],
   "source": [
    "# normalize features\n",
    "for i, fimg in enumerate(new_features):\n",
    "    new_features[i] = normalize_features(fimg)"
   ]
  },
  {
   "cell_type": "markdown",
   "metadata": {
    "id": "b4kDj4dsi34K"
   },
   "source": [
    "## clustering"
   ]
  },
  {
   "cell_type": "markdown",
   "metadata": {
    "id": "2yxNa4MT9EQ_",
    "jp-MarkdownHeadingCollapsed": true
   },
   "source": [
    "### k-means"
   ]
  },
  {
   "cell_type": "code",
   "execution_count": null,
   "metadata": {
    "id": "g3BrJgCQi34K"
   },
   "outputs": [],
   "source": [
    "kmeans = KMeans(n_clusters=10)\n",
    "new_clusters = []\n",
    "for f in new_features:\n",
    "    clusters = kmeans.fit_predict(f)\n",
    "    new_clusters.append(clusters)\n",
    "# clusters = clusters.reshape(images.shape[0], images.shape[1], images.shape[2])\n",
    "\n",
    "for i, c in enumerate(new_clusters):\n",
    "    new_clusters[i] = c.reshape(random_values.shape[1], random_values.shape[2])"
   ]
  },
  {
   "cell_type": "code",
   "execution_count": null,
   "metadata": {},
   "outputs": [],
   "source": [
    "new_clusters[0].shape"
   ]
  },
  {
   "cell_type": "markdown",
   "metadata": {
    "id": "2UJ8UdX6i34P"
   },
   "source": [
    "## display clustering"
   ]
  },
  {
   "cell_type": "code",
   "execution_count": null,
   "metadata": {
    "id": "OFG_Oueri34L"
   },
   "outputs": [],
   "source": [
    "# Calculate the mean color for each cluster\n",
    "# def cluster_mean_value(kmeans, clusters):\n",
    "#     cluster_means = []\n",
    "#     for i, cluster in enumerate(clusters):\n",
    "#         mask = (clusters[i] == i)\n",
    "#         cluster_mean = np.mean(random_values[0] * mask[:, :, np.newaxis], axis=(0, 1, 2)) / np.mean(mask)\n",
    "#         cluster_means.append(cluster_mean)\n",
    "#     # Convert the mean colors to integer values\n",
    "#     cluster_means = np.round(cluster_means).astype(int)\n",
    "#     return cluster_means\n",
    "\n",
    "def cluster_mean_value(clusters):\n",
    "    cluster_means = []\n",
    "    for i, cluster in enumerate(clusters):\n",
    "        mask = (clusters[i] == i)\n",
    "        cluster_mean = np.mean(random_values * mask[:, np.newaxis], axis=(0, 1, 2)) / np.mean(mask)\n",
    "        cluster_means.append(cluster_mean)\n",
    "    # Convert the mean colors to integer values\n",
    "    cluster_means = np.round(cluster_means).astype(int)\n",
    "    return cluster_means"
   ]
  },
  {
   "cell_type": "code",
   "execution_count": null,
   "metadata": {
    "id": "nH5Vrm4_i34L"
   },
   "outputs": [],
   "source": [
    "new_cluster_mean = []\n",
    "for nc in new_clusters:\n",
    "    clusters_mean = cluster_mean_value(nc)\n",
    "    new_cluster_mean.append(clusters_mean)\n",
    "# clusters_mean.reshape(clusters_mean.shape[0]*clusters_mean.shape[1])"
   ]
  },
  {
   "cell_type": "code",
   "execution_count": null,
   "metadata": {
    "id": "d2YYqr8Ri34P"
   },
   "outputs": [],
   "source": [
    "def display_clusters(cluster_means):\n",
    "    # Display images with cluster colors\n",
    "    for i, image in enumerate(random_values):\n",
    "        cv2.imshow('Original', image)\n",
    "\n",
    "        # Create a blank image for displaying clustered colors\n",
    "        cluster_image = np.zeros_like(image)\n",
    "        \n",
    "\n",
    "        # Assign the mean color to each pixel based on the cluster assignment\n",
    "        # print(len(cluster_means))\n",
    "        for cluster, mean_color in enumerate(cluster_means):\n",
    "            mask = (new_clusters[i] == cluster)\n",
    "            cluster_image[mask] = mean_color\n",
    "\n",
    "        cv2.imshow('Clustered', cluster_image)\n",
    "        cv2.waitKey(0)\n",
    "\n",
    "    cv2.destroyAllWindows()\n",
    "\n",
    "\n",
    "display_clusters(new_cluster_mean)"
   ]
  },
  {
   "cell_type": "markdown",
   "metadata": {
    "id": "Zi_CypDqi34L"
   },
   "source": [
    "## extracting clusters features for each image sepratedly"
   ]
  },
  {
   "cell_type": "markdown",
   "metadata": {},
   "source": [
    "### mean color for each cluster in each image"
   ]
  },
  {
   "cell_type": "code",
   "execution_count": null,
   "metadata": {},
   "outputs": [],
   "source": [
    "def mean_find_matching_triads(array1, array2):   \n",
    "    print(array1.shape, array2.shape)\n",
    "\n",
    "    unique_values = np.unique(array1)\n",
    "    \n",
    "    print(unique_values)\n",
    "    \n",
    "    result = []\n",
    "\n",
    "    for value in unique_values:\n",
    "        indexes = np.where(array1 == value)[0]\n",
    "        triads = array2[indexes, :].tolist()\n",
    "        result.append(triads)\n",
    "\n",
    "    return result"
   ]
  },
  {
   "cell_type": "code",
   "execution_count": null,
   "metadata": {},
   "outputs": [],
   "source": [
    "def calculate_mean(data):\n",
    "    data_array = np.array(data)\n",
    "    mean_values = np.mean(data_array, axis=0)\n",
    "    mean_values = mean_values.astype(int)\n",
    "    mean_values_list = mean_values.tolist()\n",
    "    return mean_values_list\n",
    "\n"
   ]
  },
  {
   "cell_type": "code",
   "execution_count": null,
   "metadata": {},
   "outputs": [],
   "source": [
    "def mean_forward_each_image(clusters, random_values):\n",
    "\n",
    "    mean_values = []\n",
    "    reshaped_clusters = clusters.reshape(clusters.shape[0], clusters.shape[1] * clusters.shape[2])\n",
    "    reshaped_random_values = random_values.reshape(random_values.shape[0],\n",
    "                                                    random_values.shape[1] * random_values.shape[2],\n",
    "                                                    random_values.shape[3])\n",
    "    for i in range(random_values.shape[0]):\n",
    "        similar_clusters_pixels = mean_find_matching_triads(reshaped_clusters[i],\n",
    "                                                        reshaped_random_values[i])\n",
    "        each_cluster_mean_values = []\n",
    "        print(len(similar_clusters_pixels))\n",
    "        for j in range(len(similar_clusters_pixels)):\n",
    "            each_cluster_mean_values.append(calculate_mean(similar_clusters_pixels[j]))\n",
    "        \n",
    "        mean_values.append(each_cluster_mean_values)\n",
    "\n",
    "    return mean_values\n"
   ]
  },
  {
   "cell_type": "code",
   "execution_count": null,
   "metadata": {},
   "outputs": [],
   "source": [
    "mean_color_each_cluster_each_image = mean_forward_each_image(clusters, random_values)"
   ]
  },
  {
   "cell_type": "markdown",
   "metadata": {},
   "source": [
    "### variance color for each cluster in each image"
   ]
  },
  {
   "cell_type": "code",
   "execution_count": null,
   "metadata": {},
   "outputs": [],
   "source": [
    "def var_find_matching_triads(array1, array2):   \n",
    "\n",
    "    unique_values = np.unique(array1)\n",
    "\n",
    "    result = []\n",
    "\n",
    "    for value in unique_values:\n",
    "        indexes = np.where(array1 == value)[0]\n",
    "        triads = array2[indexes, :].tolist()\n",
    "        result.append(triads)\n",
    "\n",
    "    return result"
   ]
  },
  {
   "cell_type": "code",
   "execution_count": null,
   "metadata": {},
   "outputs": [],
   "source": [
    "def calculate_var(data):\n",
    "    data_array = np.array(data)\n",
    "    var_values = np.var(data_array, axis=0)\n",
    "    var_values = var_values.astype(int)\n",
    "    var_values_list = var_values.tolist()\n",
    "    return var_values_list\n",
    "\n"
   ]
  },
  {
   "cell_type": "code",
   "execution_count": null,
   "metadata": {},
   "outputs": [],
   "source": [
    "def var_forward_each_image(clusters, random_values):\n",
    "    similar_clusters_pixels = []\n",
    "\n",
    "    var_values = []\n",
    "    reshaped_clusters = clusters.reshape(clusters.shape[0], clusters.shape[1] * clusters.shape[2])\n",
    "    reshaped_random_values = random_values.reshape(random_values.shape[0],\n",
    "                                                    random_values.shape[1] * random_values.shape[2],\n",
    "                                                    random_values.shape[3])\n",
    "    for i in range(random_values.shape[0]):\n",
    "        similar_clusters_pixels = var_find_matching_triads(reshaped_clusters[i],\n",
    "                                                        reshaped_random_values[i])\n",
    "        each_cluster_var_values = []\n",
    "        for j in range(len(similar_clusters_pixels)):\n",
    "            each_cluster_var_values.append(calculate_var(similar_clusters_pixels[j]))\n",
    "\n",
    "        var_values.append(each_cluster_var_values)\n",
    "\n",
    "    return var_values\n"
   ]
  },
  {
   "cell_type": "code",
   "execution_count": null,
   "metadata": {},
   "outputs": [],
   "source": [
    "var_color_each_cluster_each_image = var_forward_each_image(clusters, random_values)\n",
    "for i in var_color_each_cluster_each_image:\n",
    "    print(len(i) != 10)"
   ]
  },
  {
   "cell_type": "markdown",
   "metadata": {},
   "source": [
    "### size of clusters in each image"
   ]
  },
  {
   "cell_type": "code",
   "execution_count": null,
   "metadata": {},
   "outputs": [],
   "source": [
    "def calculate_size(clusters):\n",
    "    size_each_cluster_each_image = []\n",
    "\n",
    "    for i in range(clusters.shape[0]):\n",
    "        unique_clusters, counts = np.unique(clusters[i], return_counts=True)\n",
    "        each_clusters_size = counts\n",
    "        size_each_cluster_each_image.append(each_clusters_size)\n",
    "\n",
    "    # size_each_cluster_each_image = np.array(size_each_cluster_each_image)\n",
    "    return size_each_cluster_each_image"
   ]
  },
  {
   "cell_type": "code",
   "execution_count": null,
   "metadata": {},
   "outputs": [],
   "source": [
    "size_each_cluster_each_image = calculate_size(clusters)\n",
    "size_each_cluster_each_image"
   ]
  },
  {
   "cell_type": "markdown",
   "metadata": {},
   "source": [
    "# Part 2"
   ]
  },
  {
   "cell_type": "markdown",
   "metadata": {
    "id": "VFn0nBVDi34f"
   },
   "source": [
    "## create clusters feature vectors "
   ]
  },
  {
   "cell_type": "code",
   "execution_count": null,
   "metadata": {
    "id": "11jURYBei34f"
   },
   "outputs": [],
   "source": [
    "def create_clusters_vector(clusters_mean, clusters_variance):\n",
    "    result = []\n",
    "    for mean, variance in zip(clusters_mean, clusters_variance):\n",
    "        if (len(mean) != 10 or len(variance) != 10):\n",
    "            print(\"Jib\")\n",
    "            continue\n",
    "        for i in range(10):\n",
    "            result.append([*mean[i], *variance[i]])\n",
    "    return result"
   ]
  },
  {
   "cell_type": "code",
   "execution_count": null,
   "metadata": {
    "id": "kdoWEeURi34g"
   },
   "outputs": [],
   "source": [
    "def flatten_nested_list(nested_list):\n",
    "    return [[item for sublist in lst for item in (sublist if isinstance(sublist, list) else [sublist])] for lst in nested_list]"
   ]
  },
  {
   "cell_type": "code",
   "execution_count": null,
   "metadata": {
    "id": "XxDRoNKmi34g"
   },
   "outputs": [],
   "source": [
    "clusters_features = create_clusters_vector(mean_color_each_cluster_each_image, var_color_each_cluster_each_image)\n",
    "# clusters_features = flatten_nested_list(clusters_features)\n",
    "clusters_featuresss = np.array(clusters_features)\n",
    "clusters_featuresss"
   ]
  },
  {
   "cell_type": "markdown",
   "metadata": {
    "id": "EZnhtPpgi34g"
   },
   "source": [
    "## clustering clusters"
   ]
  },
  {
   "cell_type": "code",
   "execution_count": null,
   "metadata": {
    "id": "UJlojCZci34h"
   },
   "outputs": [],
   "source": [
    "kmeans_2 = KMeans(n_clusters=3)\n",
    "clusters_features_flat = [np.concatenate([np.array(item[:-1]), item[-1]]) for item in clusters_features]\n",
    "clusters_2 = kmeans.fit_predict(clusters_features_flat)\n",
    "# clusters_2 = kmeans.fit_predict(clusters_features)\n",
    "clusters_2"
   ]
  },
  {
   "cell_type": "markdown",
   "metadata": {
    "id": "o6onYuxUi34h"
   },
   "source": [
    "## Diaplay clustered cluster"
   ]
  },
  {
   "cell_type": "code",
   "execution_count": null,
   "metadata": {},
   "outputs": [],
   "source": [
    "import matplotlib.pyplot as plt\n",
    "from sklearn.decomposition import PCA\n",
    "pca = PCA(2)\n",
    "data_transformed = pca.fit_transform(clusters_features_flat)\n",
    "\n",
    "plt.scatter(data_transformed[:, 0], data_transformed[:, 1], c=clusters_2)\n",
    "plt.show()\n"
   ]
  }
 ],
 "metadata": {
  "accelerator": "GPU",
  "colab": {
   "collapsed_sections": [
    "3mVvdAtI9ONL",
    "lBEBJMkk9Tsz",
    "UcQ9WDY59Zlb",
    "06xiqibEqHid",
    "aWfpqHU1qPh4"
   ],
   "gpuType": "T4",
   "provenance": []
  },
  "kernelspec": {
   "display_name": "Python 3 (ipykernel)",
   "language": "python",
   "name": "python3"
  },
  "language_info": {
   "codemirror_mode": {
    "name": "ipython",
    "version": 3
   },
   "file_extension": ".py",
   "mimetype": "text/x-python",
   "name": "python",
   "nbconvert_exporter": "python",
   "pygments_lexer": "ipython3",
   "version": "3.10.5"
  }
 },
 "nbformat": 4,
 "nbformat_minor": 4
}
