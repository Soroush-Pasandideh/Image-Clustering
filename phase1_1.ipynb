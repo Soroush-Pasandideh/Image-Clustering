{
 "cells": [
  {
   "cell_type": "markdown",
   "metadata": {
    "id": "9w67mZW1i333",
    "tags": []
   },
   "source": [
    "## imports"
   ]
  },
  {
   "cell_type": "code",
   "execution_count": 37,
   "metadata": {
    "id": "Ohy-uGrhk_6j"
   },
   "outputs": [],
   "source": [
    "import pickle\n",
    "import numpy as np\n",
    "from sklearn.cluster import KMeans\n",
    "from sklearn.preprocessing import MinMaxScaler, StandardScaler\n",
    "from sklearn.cluster import KMeans\n",
    "from sklearn.metrics import accuracy_score\n",
    "from sklearn.model_selection import train_test_split\n",
    "from sklearn.cluster import DBSCAN\n",
    "import cv2\n",
    "import random"
   ]
  },
  {
   "cell_type": "markdown",
   "metadata": {},
   "source": [
    "# Part 1"
   ]
  },
  {
   "cell_type": "markdown",
   "metadata": {
    "id": "ES23zLXhi34A",
    "jp-MarkdownHeadingCollapsed": true
   },
   "source": [
    "## load dataset"
   ]
  },
  {
   "cell_type": "code",
   "execution_count": 38,
   "metadata": {
    "id": "5C72evWemRM_"
   },
   "outputs": [],
   "source": [
    "def load_dataset():\n",
    "  image_pickle_file_path = 'images.pkl'\n",
    "  label_pickle_file_path = 'label.pkl'\n",
    "\n",
    "  with open(image_pickle_file_path, 'rb') as file:\n",
    "    images = pickle.load(file)\n",
    "\n",
    "  with open(label_pickle_file_path, 'rb') as file:\n",
    "    labels = pickle.load(file)\n",
    "\n",
    "  # images = images.reshape(images.shape[0], -1)\n",
    "\n",
    "  return images, labels"
   ]
  },
  {
   "cell_type": "code",
   "execution_count": 39,
   "metadata": {
    "id": "PegQSxmRnEAU"
   },
   "outputs": [],
   "source": [
    "images, labels = load_dataset()\n",
    "# images = images[200:202]\n",
    "# # Choose a random index along the first axis\n",
    "random_indices = np.random.choice(560, size=20, replace=False)\n",
    "# Extract the randomly selected values\n",
    "random_values = images[random_indices]\n"
   ]
  },
  {
   "cell_type": "markdown",
   "metadata": {
    "id": "p4EkzGxIi34C"
   },
   "source": [
    "## Proccess on images\n",
    "- Extract features\n",
    "- normalize features\n",
    "- make features a single dimnetion vector"
   ]
  },
  {
   "cell_type": "code",
   "execution_count": 103,
   "metadata": {
    "id": "niz6RZqTi34D"
   },
   "outputs": [],
   "source": [
    "def extract_features(images):\n",
    "    features = []\n",
    "    original_features = []\n",
    "\n",
    "    # For each image in the dataset\n",
    "    for img in images:\n",
    "\n",
    "        # Reshape the image back to a 2D array\n",
    "        # img_hsv = img_hsv.reshape((height, width, 3))\n",
    "        height, width, _ = img.shape\n",
    "        img_hsv = cv2.cvtColor(img, cv2.COLOR_BGR2HSV)\n",
    "\n",
    "        # For each pixel in the image\n",
    "        for i in range(img_hsv.shape[0]):\n",
    "            for j in range(img_hsv.shape[1]):\n",
    "                pixel = img_hsv[i, j]\n",
    "                h, s, v = pixel\n",
    "                x, y = i, j\n",
    "\n",
    "                original_features.append((h,s,v,x,y))\n",
    "\n",
    "                h_weight = 10\n",
    "                s_weight = 1\n",
    "                v_weight = 1\n",
    "                x_weight = 0\n",
    "                y_weight = 0\n",
    "                h, s, v = h * h_weight, s * s_weight, v * v_weight\n",
    "                x, y = x * x_weight, y * y_weight\n",
    "\n",
    "                features.append((h, s, v, x, y))\n",
    "\n",
    "    return features, original_features"
   ]
  },
  {
   "cell_type": "code",
   "execution_count": 104,
   "metadata": {
    "id": "thgfwhB_i34F"
   },
   "outputs": [],
   "source": [
    "def normalize_features(features):\n",
    "    features_array = np.array(features)\n",
    "    scaler = StandardScaler()\n",
    "    normalized_features_array = scaler.fit_transform(features_array)\n",
    "    normalized_features = normalized_features_array.tolist()\n",
    "    return normalized_features"
   ]
  },
  {
   "cell_type": "code",
   "execution_count": 105,
   "metadata": {
    "id": "JPSriJDwi34G"
   },
   "outputs": [],
   "source": [
    "def process_images_in_chunks(images, chunk_size):\n",
    "    features = []\n",
    "    original_features = []\n",
    "    num_images = len(images)\n",
    "\n",
    "    for i in range(0, num_images, chunk_size):\n",
    "        # Extract features for a chunk of images\n",
    "        chunk_features, chunk_original_features = extract_features(images[i:i+chunk_size])\n",
    "\n",
    "        # Append the features to the overall features list\n",
    "        features.extend(chunk_features)\n",
    "        original_features.extend(chunk_original_features)\n",
    "\n",
    "        print('<<', i, '>>')\n",
    "\n",
    "    return features, original_features\n"
   ]
  },
  {
   "cell_type": "code",
   "execution_count": 106,
   "metadata": {
    "colab": {
     "base_uri": "https://localhost:8080/"
    },
    "id": "4zo_qGUNi34H",
    "outputId": "44412444-40e7-41ab-e547-d11217b7b25f"
   },
   "outputs": [
    {
     "name": "stdout",
     "output_type": "stream",
     "text": [
      "<< 0 >>\n",
      "<< 10 >>\n"
     ]
    }
   ],
   "source": [
    "# extract features\n",
    "chunk_size = 10\n",
    "# features, original_features = process_images_in_chunks(images, chunk_size)\n",
    "features, original_features = process_images_in_chunks(random_values, chunk_size)"
   ]
  },
  {
   "cell_type": "code",
   "execution_count": 107,
   "metadata": {
    "id": "D_vQuK0ii34J"
   },
   "outputs": [],
   "source": [
    "# normalize features\n",
    "features = normalize_features(features)"
   ]
  },
  {
   "cell_type": "markdown",
   "metadata": {
    "id": "b4kDj4dsi34K"
   },
   "source": [
    "## clustering"
   ]
  },
  {
   "cell_type": "markdown",
   "metadata": {
    "id": "2yxNa4MT9EQ_",
    "jp-MarkdownHeadingCollapsed": true
   },
   "source": [
    "### k-means"
   ]
  },
  {
   "cell_type": "code",
   "execution_count": 206,
   "metadata": {
    "id": "g3BrJgCQi34K"
   },
   "outputs": [
    {
     "name": "stderr",
     "output_type": "stream",
     "text": [
      "d:\\ProgramFiles\\Anaconda\\envs\\slomo\\lib\\site-packages\\sklearn\\cluster\\_kmeans.py:1416: FutureWarning: The default value of `n_init` will change from 10 to 'auto' in 1.4. Set the value of `n_init` explicitly to suppress the warning\n",
      "  super()._check_params_vs_input(X, default_n_init=10)\n"
     ]
    }
   ],
   "source": [
    "kmeans = KMeans(n_clusters=10)\n",
    "clusters = kmeans.fit_predict(features)\n",
    "# clusters = clusters.reshape(images.shape[0], images.shape[1], images.shape[2])\n",
    "clusters = clusters.reshape(random_values.shape[0], random_values.shape[1], random_values.shape[2])"
   ]
  },
  {
   "cell_type": "markdown",
   "metadata": {
    "id": "3mVvdAtI9ONL",
    "jp-MarkdownHeadingCollapsed": true
   },
   "source": [
    "### db-scan"
   ]
  },
  {
   "cell_type": "code",
   "execution_count": 46,
   "metadata": {
    "id": "-GGl1Puoi34L"
   },
   "outputs": [],
   "source": [
    "# dbscan = DBSCAN(eps=50, min_samples=5)\n",
    "# clusters = dbscan.fit_predict(features)\n",
    "# clusters = clusters.reshape(images.shape[0], images.shape[1], images.shape[2])"
   ]
  },
  {
   "cell_type": "markdown",
   "metadata": {
    "id": "lBEBJMkk9Tsz",
    "jp-MarkdownHeadingCollapsed": true
   },
   "source": [
    "### db-scann"
   ]
  },
  {
   "cell_type": "code",
   "execution_count": 47,
   "metadata": {
    "id": "y3jQFS2puMUI"
   },
   "outputs": [],
   "source": [
    "# import numpy as np\n",
    "# from sklearn.cluster import DBSCAN\n",
    "\n",
    "# # Apply DBSCAN with parallelization\n",
    "# db = DBSCAN(eps=0.5, min_samples=10).fit(features)\n",
    "# labels = db.labels_\n",
    "\n",
    "# # Number of clusters in labels,a ignoring noise if present.\n",
    "# n_clusters_ = len(set(labels)) - (1 if -1 in labels else 0)\n",
    "# n_noise_ = list(labels).count(-1)\n",
    "\n",
    "# print(\"Estimated number of clusters: %d\" % n_clusters_)\n",
    "# print(\"Estimated number of noise points: %d\" % n_noise_)"
   ]
  },
  {
   "cell_type": "markdown",
   "metadata": {
    "id": "UcQ9WDY59Zlb",
    "jp-MarkdownHeadingCollapsed": true
   },
   "source": [
    "### mean-shift"
   ]
  },
  {
   "cell_type": "code",
   "execution_count": 48,
   "metadata": {
    "id": "VC_zG3h5nvwv"
   },
   "outputs": [],
   "source": [
    "# import numpy as np\n",
    "# from sklearn.cluster import MeanShift, estimate_bandwidth\n",
    "\n",
    "# # Estimate bandwidth (this can be adjusted based on your data)\n",
    "# bandwidth = estimate_bandwidth(features, quantile=0.2, n_samples=500)\n",
    "\n",
    "# # Apply Mean Shift\n",
    "# ms = MeanShift(bandwidth=bandwidth, bin_seeding=True)\n",
    "# ms.fit(features)\n",
    "\n",
    "# # Access cluster labels and cluster centers\n",
    "# labels = ms.labels_\n",
    "# cluster_centers = ms.cluster_centers_\n",
    "\n",
    "# # Number of clusters\n",
    "# n_clusters_ = len(np.unique(labels))\n",
    "\n",
    "# print(\"Estimated number of clusters: %d\" % n_clusters_)\n",
    "# print(\"Estimated number of noise points: %d\" % n_noise_)\n"
   ]
  },
  {
   "cell_type": "markdown",
   "metadata": {
    "id": "t9ot8z8YtNmX"
   },
   "source": [
    "## Plot"
   ]
  },
  {
   "cell_type": "markdown",
   "metadata": {
    "id": "wBw3XaPc-BoW"
   },
   "source": [
    "#### 3D"
   ]
  },
  {
   "cell_type": "code",
   "execution_count": 49,
   "metadata": {
    "id": "263XUsaMtMxo"
   },
   "outputs": [],
   "source": [
    "# import numpy as np\n",
    "# import matplotlib.pyplot as plt\n",
    "# from mpl_toolkits.mplot3d import Axes3D  # Importing the 3D plotting toolkit\n",
    "\n",
    "# # Example data (replace this with your actual data)\n",
    "# vectors = np.array(original_features)\n",
    "# cluster_labels = clusters.reshape(clusters.shape[0]*clusters.shape[1]*clusters.shape[2])\n",
    "\n",
    "# # Create a 3D plot\n",
    "# fig = plt.figure()\n",
    "# ax = fig.add_subplot(111, projection='3d')\n",
    "\n",
    "# # Plot vectors with different colors based on their clusters\n",
    "# for cluster_label in np.unique(cluster_labels):\n",
    "#     mask = (cluster_labels == cluster_label)\n",
    "#     ax.scatter(vectors[mask, 3], vectors[mask, 4], vectors[mask, 2], label=f'Cluster {cluster_label}')\n",
    "\n",
    "# # Set labels\n",
    "# ax.set_xlabel('X')\n",
    "# ax.set_ylabel('Y')\n",
    "# ax.set_zlabel('Z')\n",
    "\n",
    "# # Add a legend\n",
    "# ax.legend()\n",
    "\n",
    "# # Show the 3D plot\n",
    "# plt.show()\n"
   ]
  },
  {
   "cell_type": "markdown",
   "metadata": {
    "id": "e3W1vJTW-GsB"
   },
   "source": [
    "#### 2D"
   ]
  },
  {
   "cell_type": "code",
   "execution_count": 50,
   "metadata": {
    "id": "mbW3nHPT-KQa"
   },
   "outputs": [],
   "source": [
    "# import numpy as np\n",
    "# import matplotlib.pyplot as plt\n",
    "\n",
    "# # Example data (replace this with your actual data)\n",
    "# vectors = np.array(original_features)\n",
    "# cluster_labels = clusters.reshape(clusters.shape[0]*clusters.shape[1]*clusters.shape[2])\n",
    "\n",
    "# # Plot vectors with different colors based on their clusters\n",
    "# for cluster_label in np.unique(cluster_labels):\n",
    "#     mask = (cluster_labels == cluster_label)\n",
    "#     plt.scatter(vectors[mask, 3], vectors[mask, 4], label=f'Cluster {cluster_label}')\n",
    "\n",
    "# # Set labels\n",
    "# plt.xlabel('X')\n",
    "# plt.ylabel('Y')\n",
    "\n",
    "# # Add a legend\n",
    "# plt.legend()\n",
    "\n",
    "# # Show the plot\n",
    "# plt.show()\n"
   ]
  },
  {
   "cell_type": "markdown",
   "metadata": {
    "id": "06xiqibEqHid",
    "jp-MarkdownHeadingCollapsed": true
   },
   "source": [
    "### plot db-scan"
   ]
  },
  {
   "cell_type": "code",
   "execution_count": 51,
   "metadata": {
    "id": "M9kX0cuMuM9C"
   },
   "outputs": [],
   "source": [
    "# # @title Default title text\n",
    "# import matplotlib.pyplot as plt\n",
    "# from sklearn.preprocessing import StandardScaler\n",
    "\n",
    "# featuress = StandardScaler().fit_transform(features)\n",
    "\n",
    "# unique_labels = set(labels)\n",
    "# core_samples_mask = np.zeros_like(labels, dtype=bool)\n",
    "# core_samples_mask[db.core_sample_indices_] = True\n",
    "\n",
    "# colors = [plt.cm.Spectral(each) for each in np.linspace(0, 1, len(unique_labels))]\n",
    "# for k, col in zip(unique_labels, colors):\n",
    "#     if k == -1:\n",
    "#         # Black used for noise.\n",
    "#         col = [0, 0, 0, 1]\n",
    "\n",
    "#     class_member_mask = labels == k\n",
    "\n",
    "#     xy = featuress[class_member_mask & core_samples_mask]\n",
    "#     plt.plot(\n",
    "#         xy[:, 0],\n",
    "#         xy[:, 1],\n",
    "#         \".\",\n",
    "#         markerfacecolor=tuple(col),\n",
    "#         markeredgecolor=\"k\",\n",
    "#         markersize=14,\n",
    "#     )\n",
    "\n",
    "#     xy = featuress[class_member_mask & ~core_samples_mask]\n",
    "#     plt.plot(\n",
    "#         xy[:, 0],\n",
    "#         xy[:, 1],\n",
    "#         \"o\",\n",
    "#         markerfacecolor=tuple(col),\n",
    "#         markeredgecolor=\"k\",\n",
    "#         markersize=6,\n",
    "#     )\n",
    "\n",
    "# plt.title(f\"Estimated number of clusters: {n_clusters_}\")\n",
    "# plt.show()"
   ]
  },
  {
   "cell_type": "markdown",
   "metadata": {
    "id": "aWfpqHU1qPh4",
    "jp-MarkdownHeadingCollapsed": true
   },
   "source": [
    "### plot mean-shift"
   ]
  },
  {
   "cell_type": "code",
   "execution_count": 52,
   "metadata": {
    "id": "X6blDdubpQz1"
   },
   "outputs": [],
   "source": [
    "# import matplotlib.pyplot as plt\n",
    "# from mpl_toolkits.mplot3d import Axes3D\n",
    "# from itertools import cycle\n",
    "# import numpy as np\n",
    "\n",
    "# def plot_mean_shift_clusters_3d(features, labels, cluster_centers):\n",
    "#     # Number of clusters\n",
    "#     n_clusters = len(cluster_centers)\n",
    "\n",
    "#     # Define colors for plotting\n",
    "#     colors = cycle('bgrcmykbgrcmykbgrcmykbgrcmyk')\n",
    "\n",
    "#     fig = plt.figure(figsize=(12, 8))\n",
    "#     ax = fig.add_subplot(111, projection='3d')\n",
    "\n",
    "#     for k, col in zip(range(n_clusters), colors):\n",
    "#         cluster_points = np.array(features)[labels == k]\n",
    "#         ax.scatter(cluster_points[:, 0], cluster_points[:, 1], cluster_points[:, 2], c=col, marker='.', s=50, edgecolors='k')\n",
    "\n",
    "#         # Mark the cluster center\n",
    "#         cluster_center = cluster_centers[k]\n",
    "#         ax.scatter(cluster_center[0], cluster_center[1], cluster_center[2], c=col, marker='x', s=200, edgecolors='k')\n",
    "\n",
    "#     ax.set_title('Mean Shift Clustering (3D)')\n",
    "#     ax.set_xlabel('Feature 1')\n",
    "#     ax.set_ylabel('Feature 2')\n",
    "#     ax.set_zlabel('Feature 3')\n",
    "\n",
    "#     plt.show()\n",
    "\n",
    "# # Example usage:\n",
    "# # Assuming you have a 5D feature array, replace it with your actual feature array\n",
    "# # Replace 'features', 'labels', and 'cluster_centers' with your actual variable names\n",
    "# plot_mean_shift_clusters_3d(features, labels, cluster_centers)\n"
   ]
  },
  {
   "cell_type": "markdown",
   "metadata": {
    "id": "2UJ8UdX6i34P"
   },
   "source": [
    "## display clustering"
   ]
  },
  {
   "cell_type": "code",
   "execution_count": null,
   "metadata": {
    "id": "OFG_Oueri34L"
   },
   "outputs": [],
   "source": [
    "# Calculate the mean color for each cluster\n",
    "def cluster_mean_value(kmeans, clusters):\n",
    "    cluster_means = []\n",
    "    for cluster in range(kmeans.n_clusters):\n",
    "        mask = (clusters == cluster)\n",
    "        cluster_mean = np.mean(random_values * mask[:, :, :, np.newaxis], axis=(0, 1, 2)) / np.mean(mask)\n",
    "        cluster_means.append(cluster_mean)\n",
    "    # Convert the mean colors to integer values\n",
    "    cluster_means = np.round(cluster_means).astype(int)\n",
    "    return cluster_means"
   ]
  },
  {
   "cell_type": "code",
   "execution_count": null,
   "metadata": {
    "id": "nH5Vrm4_i34L"
   },
   "outputs": [],
   "source": [
    "clusters_mean = cluster_mean_value(kmeans, clusters)\n",
    "# clusters_mean.reshape(clusters_mean.shape[0]*clusters_mean.shape[1])"
   ]
  },
  {
   "cell_type": "code",
   "execution_count": null,
   "metadata": {
    "id": "d2YYqr8Ri34P"
   },
   "outputs": [],
   "source": [
    "def display_clusters(cluster_means):\n",
    "    # Display iپages with cluster colors\n",
    "    for i, image in enumerate(random_values):\n",
    "        cv2.imshow('Original', image)\n",
    "\n",
    "        # Create a blank image for displaying clustered colors\n",
    "        cluster_image = np.zeros_like(image)\n",
    "        \n",
    "\n",
    "        # Assign the mean color to each pixel based on the cluster assignment\n",
    "        for cluster, mean_color in enumerate(cluster_means):\n",
    "            mask = (clusters[i] == cluster)\n",
    "            cluster_image[mask] = mean_color\n",
    "\n",
    "        cv2.imshow('Clustered', cluster_image)\n",
    "        cv2.waitKey(0)\n",
    "\n",
    "    cv2.destroyAllWindows()\n",
    "\n",
    "display_clusters(clusters_mean)"
   ]
  },
  {
   "cell_type": "markdown",
   "metadata": {
    "id": "Zi_CypDqi34L"
   },
   "source": [
    "## extracting clusters features for each image sepratedly"
   ]
  },
  {
   "cell_type": "markdown",
   "metadata": {},
   "source": [
    "### mean color for each cluster in each image"
   ]
  },
  {
   "cell_type": "code",
   "execution_count": 115,
   "metadata": {},
   "outputs": [],
   "source": [
    "import numpy as np\n",
    "\n",
    "def calculate_mean(first_array, second_array):\n",
    "    \n",
    "    mean_values = []\n",
    "    unique_elements = np.unique(first_array)\n",
    "        \n",
    "    for element in unique_elements:\n",
    "        indices = np.where(first_array == element)\n",
    "        mean_hsv = np.mean(second_array[indices], axis=0)\n",
    "        mean_values.append(mean_hsv.tolist())\n",
    "\n",
    "    return mean_values"
   ]
  },
  {
   "cell_type": "code",
   "execution_count": 141,
   "metadata": {},
   "outputs": [
    {
     "name": "stdout",
     "output_type": "stream",
     "text": [
      "20\n"
     ]
    },
    {
     "data": {
      "text/plain": [
       "array([[[157.6216193 , 127.57361078, 135.73033438],\n",
       "        [146.5118664 , 118.46473459, 123.47104185],\n",
       "        [134.77571955, 110.86695407, 114.2240495 ]],\n",
       "\n",
       "       [[145.84362137, 154.74554727, 151.20010704],\n",
       "        [119.44998127, 151.94492319, 139.17572124],\n",
       "        [142.77346468, 147.97252568, 145.3491092 ]],\n",
       "\n",
       "       [[ 87.7358988 ,  71.57208797,  87.83945731],\n",
       "        [112.10710581,  85.52437759, 106.44026625],\n",
       "        [137.54736303,  86.16538658, 114.52288233]],\n",
       "\n",
       "       [[135.46428956, 122.78861701, 120.83392876],\n",
       "        [179.1125    , 175.51875   , 172.47083333],\n",
       "        [166.90645887, 125.44995491, 130.24135432]],\n",
       "\n",
       "       [[141.92864886, 131.83937562, 129.11940838],\n",
       "        [151.00035217, 102.29995048, 106.9709239 ],\n",
       "        [136.97322141, 127.76182228, 123.70474949]],\n",
       "\n",
       "       [[102.16016124, 120.50555607, 113.87108974],\n",
       "        [115.09992885, 111.49460432, 111.11398134],\n",
       "        [104.31898365, 117.11577035, 111.10292287]],\n",
       "\n",
       "       [[ 80.9526489 , 126.04640567, 100.27835427],\n",
       "        [109.96336984, 117.47944582, 111.2903824 ],\n",
       "        [ 87.99027262, 132.65292888, 107.49323777]],\n",
       "\n",
       "       [[ 78.48036749, 117.24084395, 114.05768135],\n",
       "        [ 97.18503186, 131.02122274, 131.57377458],\n",
       "        [ 95.76985147, 135.67494982, 143.06953031]],\n",
       "\n",
       "       [[ 75.12752538, 128.23451098,  30.37286314],\n",
       "        [ 62.68794326, 123.59574468,  19.24113475],\n",
       "        [ 71.64252173, 129.466314  ,  27.2291254 ]],\n",
       "\n",
       "       [[ 98.81344593, 131.97319437,  75.63473432],\n",
       "        [ 94.17263881, 133.06102496,  72.89143286],\n",
       "        [ 95.48011916, 127.06031633,  72.18608412]],\n",
       "\n",
       "       [[ 55.67239802,  46.62988571,  48.49555659],\n",
       "        [ 58.36334381,  42.64578656,  42.26197426],\n",
       "        [ 84.20019527,  60.42730112,  55.21664824]],\n",
       "\n",
       "       [[ 95.43949556, 131.23201241, 126.37605485],\n",
       "        [112.2679419 , 137.80648641, 135.53128146],\n",
       "        [113.37547925, 116.19321983, 114.23080599]],\n",
       "\n",
       "       [[164.3678346 , 158.31798274, 159.11640689],\n",
       "        [158.56052611, 157.56499474, 159.04081156],\n",
       "        [120.20472986, 141.87400082, 132.2629003 ]],\n",
       "\n",
       "       [[ 71.3276485 ,  67.11734255,  73.11912421],\n",
       "        [ 96.9568616 ,  70.0061267 ,  83.99704228],\n",
       "        [ 65.38582693,  66.97850569,  71.16505734]],\n",
       "\n",
       "       [[118.75332748, 116.71983593,  90.319671  ],\n",
       "        [126.09482424, 122.56592752, 100.31472943],\n",
       "        [139.51234392, 122.75919641, 103.08807834]],\n",
       "\n",
       "       [[126.85566283,  93.48383597, 107.42330223],\n",
       "        [ 88.01073808,  93.08442071,  79.68196504],\n",
       "        [115.19810029,  87.7137877 ,  94.68671757]],\n",
       "\n",
       "       [[103.12847463,  98.54071947,  92.302344  ],\n",
       "        [ 97.52891966,  99.29447728,  90.72133086],\n",
       "        [117.47907704, 103.50672105, 103.24190178]],\n",
       "\n",
       "       [[ 55.41237903,  95.42496558,  67.51229155],\n",
       "        [ 68.56618064,  95.51218319,  76.31057833],\n",
       "        [ 89.47178227, 104.96443792,  90.66311178]],\n",
       "\n",
       "       [[ 59.08941557,  94.02831484,  65.87846011],\n",
       "        [199.86587568, 168.40185711, 185.86097498],\n",
       "        [128.00730061, 117.26352367, 124.56502055]],\n",
       "\n",
       "       [[119.44513875, 110.23641246, 101.25253674],\n",
       "        [ 64.28384482,  81.15622467,  67.6730747 ],\n",
       "        [128.17317106, 116.88818795, 108.9134963 ]]])"
      ]
     },
     "execution_count": 141,
     "metadata": {},
     "output_type": "execute_result"
    }
   ],
   "source": [
    "mean_color_each_cluster_each_image = []\n",
    "for i in range(random_values.shape[0]):\n",
    "    mean_values = calculate_mean(clusters[i], images[i])\n",
    "    mean_color_each_cluster_each_image.append(np.array(mean_values))\n",
    "\n",
    "mean_color_each_cluster_each_image = np.array(mean_color_each_cluster_each_image)\n",
    "print(len(mean_color_each_cluster_each_image))\n",
    "mean_color_each_cluster_each_image"
   ]
  },
  {
   "cell_type": "markdown",
   "metadata": {},
   "source": [
    "### variance color for each cluster in each image"
   ]
  },
  {
   "cell_type": "code",
   "execution_count": 117,
   "metadata": {},
   "outputs": [],
   "source": [
    "import numpy as np\n",
    "\n",
    "def calculate_variance(first_array, second_array):\n",
    "    \n",
    "    variance_values = []\n",
    "    unique_elements = np.unique(first_array)\n",
    "\n",
    "    for element in unique_elements:\n",
    "        indices = np.where(first_array == element)\n",
    "        var_hsv = np.var(second_array[indices], axis=0)\n",
    "        variance_values.append(var_hsv.tolist())\n",
    "\n",
    "    return variance_values\n"
   ]
  },
  {
   "cell_type": "code",
   "execution_count": 112,
   "metadata": {},
   "outputs": [
    {
     "data": {
      "text/plain": [
       "array([[[ 351.97328614,  638.86190609,  462.56115137],\n",
       "        [2494.62370334, 2479.37250012, 2676.58093013],\n",
       "        [1813.23678057, 1077.65692697, 1056.44407672]],\n",
       "\n",
       "       [[ 288.49604826,  602.70730875,  932.95042517],\n",
       "        [2234.47776414, 2188.66727077, 2543.58725896],\n",
       "        [2361.56231387, 2440.16720303, 2120.58137251]],\n",
       "\n",
       "       [[  83.10402564,  431.54276617,  598.64914491],\n",
       "        [3469.77261609, 3495.14806197, 3406.42804266],\n",
       "        [5349.08413797, 1983.38644253, 1513.70179932]],\n",
       "\n",
       "       [[ 414.51788015, 1129.01587763,  763.26567227],\n",
       "        [1896.50692708, 2400.79978733, 1844.01905816],\n",
       "        [4916.72200517, 1383.32809081, 1445.07336389]],\n",
       "\n",
       "       [[ 344.39780159,  821.83430339,  819.65950053],\n",
       "        [2230.01703858, 1670.98658206, 1464.6470375 ],\n",
       "        [ 758.01784036, 1403.208443  , 1095.10997366]],\n",
       "\n",
       "       [[ 378.48904479,  254.43184045,  320.65224906],\n",
       "        [2727.0768338 , 1927.21076717, 1792.5459594 ],\n",
       "        [ 346.25155004,  377.8579209 ,  202.30366554]],\n",
       "\n",
       "       [[ 303.95827046,  367.66648823,  469.00355598],\n",
       "        [ 709.3527241 ,  619.20856528,  656.10666499],\n",
       "        [6324.29315861, 1421.9343604 , 1046.61027819]],\n",
       "\n",
       "       [[ 267.28727008,  505.90870677,  738.92446888],\n",
       "        [1360.27252853, 1127.14170002, 1034.83004612],\n",
       "        [1420.49722729,  750.26583806,  736.47634623]],\n",
       "\n",
       "       [[ 238.50404771,  518.64746462,  282.96558085],\n",
       "        [ 897.2096977 ,  912.23147729,  813.05819627],\n",
       "        [ 820.43792658,  516.03297546, 2813.28225754]],\n",
       "\n",
       "       [[ 395.1125385 ,  802.58403437,  671.01990757],\n",
       "        [5422.447985  , 4287.37076921, 4265.42072802],\n",
       "        [3078.57496277, 2650.78661872, 2552.89749587]],\n",
       "\n",
       "       [[ 141.4650752 ,  159.27685945,  246.67013266],\n",
       "        [ 663.39644455,  711.88819144,  730.9425703 ],\n",
       "        [2549.36524069,  663.09532887,  393.40860129]],\n",
       "\n",
       "       [[  70.47216512,  578.53560875,  378.69238022],\n",
       "        [4777.96349649, 4999.49334432, 4792.2065945 ],\n",
       "        [3642.5959156 ,  599.9093816 ,  469.35889729]],\n",
       "\n",
       "       [[ 150.50380319,  344.71037412,  563.07061327],\n",
       "        [2125.07478286, 1515.2581565 , 2363.40478901],\n",
       "        [ 599.96324466, 1436.4429759 , 1430.47122961]],\n",
       "\n",
       "       [[ 384.6128775 ,  781.16140221,  547.55402568],\n",
       "        [1748.65254397, 1516.02242229, 1155.62605311],\n",
       "        [ 852.6069817 ,  712.61850066, 1144.78569782]],\n",
       "\n",
       "       [[ 424.66421096,  629.2082805 ,  762.18580612],\n",
       "        [2033.35431522, 2255.19625174, 1686.54135346],\n",
       "        [1733.36724924,  462.42228987,  350.38320023]],\n",
       "\n",
       "       [[ 200.35113098,  708.05662321,  766.71556385],\n",
       "        [  97.01330669,  194.13090258,  392.19759228],\n",
       "        [ 811.73035227, 1675.71755043, 1236.25122197]],\n",
       "\n",
       "       [[ 460.03600248,  928.18497011,  810.02575249],\n",
       "        [2163.85786064, 1764.71259548, 2042.17409932],\n",
       "        [1573.75110305, 2359.37020065, 2786.07245574]],\n",
       "\n",
       "       [[  95.15546413,  169.91844351,  267.79591017],\n",
       "        [5089.68176477, 5439.72154239, 5613.45344261],\n",
       "        [5726.52976573, 2201.9156227 , 1531.09423232]],\n",
       "\n",
       "       [[ 200.94865085,  733.9938519 ,  395.47191188],\n",
       "        [3670.71770645, 4649.83786768, 3549.08621814],\n",
       "        [3882.42943118, 1861.44182603, 2352.90542575]],\n",
       "\n",
       "       [[ 480.07268169,  710.60887042,  453.22954262],\n",
       "        [1360.12397768, 1614.48536943, 1069.17396902],\n",
       "        [1119.39118996, 1349.63642961, 3184.64789227]]])"
      ]
     },
     "execution_count": 112,
     "metadata": {},
     "output_type": "execute_result"
    }
   ],
   "source": [
    "var_color_each_cluster_each_image = []\n",
    "for i in range(random_values.shape[0]):\n",
    "    var_values = calculate_variance(clusters[i], random_values[i])\n",
    "    var_color_each_cluster_each_image.append(np.array(var_values))\n",
    "\n",
    "var_color_each_cluster_each_image = np.array(var_color_each_cluster_each_image)\n",
    "var_color_each_cluster_each_image"
   ]
  },
  {
   "cell_type": "markdown",
   "metadata": {},
   "source": [
    "### size of clusters in each image"
   ]
  },
  {
   "cell_type": "code",
   "execution_count": 113,
   "metadata": {},
   "outputs": [],
   "source": [
    "def calculate_size(clusters):\n",
    "    size_each_cluster_each_image = []\n",
    "\n",
    "    for i in range(clusters.shape[0]):\n",
    "        unique_clusters, counts = np.unique(clusters[i], return_counts=True)\n",
    "        each_clusters_size = counts\n",
    "        size_each_cluster_each_image.append(each_clusters_size)\n",
    "\n",
    "    size_each_cluster_each_image = np.array(size_each_cluster_each_image)\n",
    "    return size_each_cluster_each_image"
   ]
  },
  {
   "cell_type": "code",
   "execution_count": 114,
   "metadata": {},
   "outputs": [
    {
     "data": {
      "text/plain": [
       "array([[ 58198,  86884, 103919],\n",
       "       [127057,   2669, 119275],\n",
       "       [153604,  23136,  72261],\n",
       "       [129878,    480, 118643],\n",
       "       [ 41513,  90865, 116623],\n",
       "       [128508,  50596,  69897],\n",
       "       [ 87791, 114332,  46878],\n",
       "       [143894,  80197,  24910],\n",
       "       [ 77216,    141, 171644],\n",
       "       [134524,  43982,  70495],\n",
       "       [ 98348,  26724, 123929],\n",
       "       [127032,  27812,  94157],\n",
       "       [ 46578, 102716,  99707],\n",
       "       [101029,  99401,  48571],\n",
       "       [ 94591,  77206,  77204],\n",
       "       [ 18436, 159712,  70853],\n",
       "       [ 70691,  88815,  89495],\n",
       "       [147459,  51095,  50447],\n",
       "       [181389,   7754,  59858],\n",
       "       [173155,   8635,  67211]], dtype=int64)"
      ]
     },
     "execution_count": 114,
     "metadata": {},
     "output_type": "execute_result"
    }
   ],
   "source": [
    "size_each_cluster_each_image = calculate_size(clusters)\n",
    "size_each_cluster_each_image"
   ]
  },
  {
   "cell_type": "markdown",
   "metadata": {},
   "source": [
    "# Part 2"
   ]
  },
  {
   "cell_type": "markdown",
   "metadata": {
    "id": "VFn0nBVDi34f"
   },
   "source": [
    "## create clusters feature vectors "
   ]
  },
  {
   "cell_type": "code",
   "execution_count": 186,
   "metadata": {
    "id": "11jURYBei34f"
   },
   "outputs": [],
   "source": [
    "def create_clusters_vector(clusters_mean, clusters_variance, clusters_size, clusters_area=None):\n",
    "    result = []\n",
    "    for mean, variance, size in zip(clusters_mean, clusters_variance, clusters_size):\n",
    "        for i in range(3):\n",
    "            result.append([*mean[i], *variance[i], size])\n",
    "    return result"
   ]
  },
  {
   "cell_type": "code",
   "execution_count": 187,
   "metadata": {
    "id": "kdoWEeURi34g"
   },
   "outputs": [],
   "source": [
    "def flatten_nested_list(nested_list):\n",
    "    return [[item for sublist in lst for item in (sublist if isinstance(sublist, list) else [sublist])] for lst in nested_list]"
   ]
  },
  {
   "cell_type": "code",
   "execution_count": 189,
   "metadata": {
    "id": "XxDRoNKmi34g"
   },
   "outputs": [
    {
     "data": {
      "text/plain": [
       "[[157.6216192996323,\n",
       "  127.57361077700264,\n",
       "  135.73033437575174,\n",
       "  351.97328613770617,\n",
       "  638.8619060914787,\n",
       "  462.56115136504695,\n",
       "  array([ 58198,  86884, 103919], dtype=int64)],\n",
       " [146.51186639657473,\n",
       "  118.46473458864693,\n",
       "  123.47104184890199,\n",
       "  2494.62370334217,\n",
       "  2479.3725001150815,\n",
       "  2676.5809301264285,\n",
       "  array([ 58198,  86884, 103919], dtype=int64)],\n",
       " [134.77571955080398,\n",
       "  110.86695406999682,\n",
       "  114.22404950009141,\n",
       "  1813.2367805662816,\n",
       "  1077.656926966279,\n",
       "  1056.4440767247158,\n",
       "  array([ 58198,  86884, 103919], dtype=int64)],\n",
       " [145.84362136678814,\n",
       "  154.7455472740581,\n",
       "  151.20010703857324,\n",
       "  288.49604825935154,\n",
       "  602.7073087468341,\n",
       "  932.9504251675631,\n",
       "  array([127057,   2669, 119275], dtype=int64)],\n",
       " [119.4499812663919,\n",
       "  151.94492319220683,\n",
       "  139.17572124391157,\n",
       "  2234.4777641407127,\n",
       "  2188.667270765284,\n",
       "  2543.587258956546,\n",
       "  array([127057,   2669, 119275], dtype=int64)],\n",
       " [142.7734646824565,\n",
       "  147.9725256759589,\n",
       "  145.34910920142528,\n",
       "  2361.562313873069,\n",
       "  2440.1672030340324,\n",
       "  2120.5813725110374,\n",
       "  array([127057,   2669, 119275], dtype=int64)],\n",
       " [87.73589880471863,\n",
       "  71.57208796645921,\n",
       "  87.83945730579933,\n",
       "  83.10402563775307,\n",
       "  431.5427661680058,\n",
       "  598.6491449144266,\n",
       "  array([153604,  23136,  72261], dtype=int64)],\n",
       " [112.10710580912863,\n",
       "  85.524377593361,\n",
       "  106.44026625172891,\n",
       "  3469.7726160878237,\n",
       "  3495.1480619748245,\n",
       "  3406.4280426615996,\n",
       "  array([153604,  23136,  72261], dtype=int64)],\n",
       " [137.547363031234,\n",
       "  86.16538658474143,\n",
       "  114.52288232933394,\n",
       "  5349.084137965068,\n",
       "  1983.3864425277443,\n",
       "  1513.7017993240813,\n",
       "  array([153604,  23136,  72261], dtype=int64)],\n",
       " [135.46428956405242,\n",
       "  122.7886170098092,\n",
       "  120.8339287639169,\n",
       "  414.5178801477123,\n",
       "  1129.0158776270273,\n",
       "  763.2656722659485,\n",
       "  array([129878,    480, 118643], dtype=int64)],\n",
       " [179.1125,\n",
       "  175.51875,\n",
       "  172.47083333333333,\n",
       "  1896.5069270833337,\n",
       "  2400.79978732639,\n",
       "  1844.0190581597212,\n",
       "  array([129878,    480, 118643], dtype=int64)],\n",
       " [166.90645887241556,\n",
       "  125.44995490673702,\n",
       "  130.24135431504598,\n",
       "  4916.722005173398,\n",
       "  1383.3280908092518,\n",
       "  1445.0733638926083,\n",
       "  array([129878,    480, 118643], dtype=int64)],\n",
       " [141.92864885698455,\n",
       "  131.83937561727652,\n",
       "  129.11940837809843,\n",
       "  344.3978015926169,\n",
       "  821.8343033930197,\n",
       "  819.6595005257368,\n",
       "  array([ 41513,  90865, 116623], dtype=int64)],\n",
       " [151.00035217080284,\n",
       "  102.29995047598085,\n",
       "  106.97092389809058,\n",
       "  2230.017038579934,\n",
       "  1670.9865820607472,\n",
       "  1464.6470374994371,\n",
       "  array([ 41513,  90865, 116623], dtype=int64)],\n",
       " [136.97322140572615,\n",
       "  127.76182228205414,\n",
       "  123.7047494919527,\n",
       "  758.0178403602443,\n",
       "  1403.2084429991323,\n",
       "  1095.1099736634567,\n",
       "  array([ 41513,  90865, 116623], dtype=int64)],\n",
       " [102.1601612350982,\n",
       "  120.50555607433,\n",
       "  113.87108973760388,\n",
       "  378.4890447892428,\n",
       "  254.43184045233465,\n",
       "  320.6522490556623,\n",
       "  array([128508,  50596,  69897], dtype=int64)],\n",
       " [115.09992884813029,\n",
       "  111.49460431654676,\n",
       "  111.1139813423986,\n",
       "  2727.076833795234,\n",
       "  1927.210767166774,\n",
       "  1792.5459593992434,\n",
       "  array([128508,  50596,  69897], dtype=int64)],\n",
       " [104.31898364736684,\n",
       "  117.11577034779748,\n",
       "  111.10292287222627,\n",
       "  346.2515500442554,\n",
       "  377.8579209034916,\n",
       "  202.3036655427657,\n",
       "  array([128508,  50596,  69897], dtype=int64)],\n",
       " [80.95264890478524,\n",
       "  126.04640566800697,\n",
       "  100.27835427321708,\n",
       "  303.95827046415144,\n",
       "  367.6664882323639,\n",
       "  469.0035559786691,\n",
       "  array([ 87791, 114332,  46878], dtype=int64)],\n",
       " [109.96336983521674,\n",
       "  117.4794458244411,\n",
       "  111.29038239512997,\n",
       "  709.3527241023548,\n",
       "  619.2085652762239,\n",
       "  656.1066649933463,\n",
       "  array([ 87791, 114332,  46878], dtype=int64)],\n",
       " [87.99027262255215,\n",
       "  132.6529288792184,\n",
       "  107.49323776611631,\n",
       "  6324.293158613334,\n",
       "  1421.9343604047892,\n",
       "  1046.610278188722,\n",
       "  array([ 87791, 114332,  46878], dtype=int64)],\n",
       " [78.48036749273771,\n",
       "  117.24084395457767,\n",
       "  114.05768134877063,\n",
       "  267.28727008464324,\n",
       "  505.9087067674101,\n",
       "  738.9244688848559,\n",
       "  array([143894,  80197,  24910], dtype=int64)],\n",
       " [97.1850318590471,\n",
       "  131.0212227390052,\n",
       "  131.5737745800965,\n",
       "  1360.27252852615,\n",
       "  1127.1417000242104,\n",
       "  1034.8300461166116,\n",
       "  array([143894,  80197,  24910], dtype=int64)],\n",
       " [95.769851465275,\n",
       "  135.67494981934965,\n",
       "  143.0695303091128,\n",
       "  1420.4972272882449,\n",
       "  750.2658380591438,\n",
       "  736.4763462330069,\n",
       "  array([143894,  80197,  24910], dtype=int64)],\n",
       " [75.12752538334024,\n",
       "  128.23451098217987,\n",
       "  30.372863137173642,\n",
       "  238.50404770572308,\n",
       "  518.6474646194343,\n",
       "  282.96558084727917,\n",
       "  array([ 77216,    141, 171644], dtype=int64)],\n",
       " [62.687943262411345,\n",
       "  123.59574468085107,\n",
       "  19.24113475177305,\n",
       "  897.2096977013231,\n",
       "  912.2314772898743,\n",
       "  813.0581962677919,\n",
       "  array([ 77216,    141, 171644], dtype=int64)],\n",
       " [71.64252173102467,\n",
       "  129.46631399874158,\n",
       "  27.22912539908182,\n",
       "  820.4379265793572,\n",
       "  516.0329754590007,\n",
       "  2813.282257536247,\n",
       "  array([ 77216,    141, 171644], dtype=int64)],\n",
       " [98.81344592786418,\n",
       "  131.97319437423806,\n",
       "  75.63473432250008,\n",
       "  395.1125385038717,\n",
       "  802.5840343655904,\n",
       "  671.0199075740651,\n",
       "  array([134524,  43982,  70495], dtype=int64)],\n",
       " [94.17263880678459,\n",
       "  133.0610249647583,\n",
       "  72.89143285889682,\n",
       "  5422.447984995269,\n",
       "  4287.370769210416,\n",
       "  4265.420728021641,\n",
       "  array([134524,  43982,  70495], dtype=int64)],\n",
       " [95.48011915738705,\n",
       "  127.0603163344918,\n",
       "  72.18608411944109,\n",
       "  3078.5749627714545,\n",
       "  2650.78661872476,\n",
       "  2552.897495872025,\n",
       "  array([134524,  43982,  70495], dtype=int64)],\n",
       " [55.67239801521129,\n",
       "  46.629885711961606,\n",
       "  48.49555659494855,\n",
       "  141.46507519666412,\n",
       "  159.2768594482109,\n",
       "  246.67013266044256,\n",
       "  array([ 98348,  26724, 123929], dtype=int64)],\n",
       " [58.36334381080677,\n",
       "  42.645786558898365,\n",
       "  42.26197425535099,\n",
       "  663.3964445459238,\n",
       "  711.8881914436096,\n",
       "  730.9425703011316,\n",
       "  array([ 98348,  26724, 123929], dtype=int64)],\n",
       " [84.20019527309992,\n",
       "  60.42730111596156,\n",
       "  55.216648242138646,\n",
       "  2549.3652406869523,\n",
       "  663.0953288652374,\n",
       "  393.40860128739314,\n",
       "  array([ 98348,  26724, 123929], dtype=int64)],\n",
       " [95.43949556017381,\n",
       "  131.2320124063228,\n",
       "  126.37605485232068,\n",
       "  70.47216511559391,\n",
       "  578.5356087453972,\n",
       "  378.6923802237371,\n",
       "  array([127032,  27812,  94157], dtype=int64)],\n",
       " [112.26794189558464,\n",
       "  137.80648640874443,\n",
       "  135.53128146123976,\n",
       "  4777.963496489992,\n",
       "  4999.4933443156315,\n",
       "  4792.206594500398,\n",
       "  array([127032,  27812,  94157], dtype=int64)],\n",
       " [113.37547925273745,\n",
       "  116.19321983495651,\n",
       "  114.23080599424365,\n",
       "  3642.5959155969995,\n",
       "  599.9093815989178,\n",
       "  469.35889728600824,\n",
       "  array([127032,  27812,  94157], dtype=int64)],\n",
       " [164.36783460002576,\n",
       "  158.31798273863197,\n",
       "  159.1164068873717,\n",
       "  150.50380319366283,\n",
       "  344.7103741164173,\n",
       "  563.0706132693899,\n",
       "  array([ 46578, 102716,  99707], dtype=int64)],\n",
       " [158.56052611082987,\n",
       "  157.56499474278593,\n",
       "  159.04081155808248,\n",
       "  2125.0747828564995,\n",
       "  1515.2581565047062,\n",
       "  2363.404789013128,\n",
       "  array([ 46578, 102716,  99707], dtype=int64)],\n",
       " [120.20472985848536,\n",
       "  141.87400082240967,\n",
       "  132.26290029787276,\n",
       "  599.9632446622464,\n",
       "  1436.4429759002894,\n",
       "  1430.4712296078349,\n",
       "  array([ 46578, 102716,  99707], dtype=int64)],\n",
       " [71.32764849696622,\n",
       "  67.1173425452098,\n",
       "  73.11912421185995,\n",
       "  384.61287750377,\n",
       "  781.1614022051776,\n",
       "  547.5540256843858,\n",
       "  array([101029,  99401,  48571], dtype=int64)],\n",
       " [96.95686160098992,\n",
       "  70.00612669892656,\n",
       "  83.99704228327683,\n",
       "  1748.6525439676386,\n",
       "  1516.0224222937543,\n",
       "  1155.6260531125845,\n",
       "  array([101029,  99401,  48571], dtype=int64)],\n",
       " [65.38582693376706,\n",
       "  66.97850569269728,\n",
       "  71.16505733874122,\n",
       "  852.6069817006351,\n",
       "  712.6185006602241,\n",
       "  1144.7856978153886,\n",
       "  array([101029,  99401,  48571], dtype=int64)],\n",
       " [118.75332748358723,\n",
       "  116.71983592519373,\n",
       "  90.31967100464104,\n",
       "  424.6642109588624,\n",
       "  629.2082805025622,\n",
       "  762.1858061173729,\n",
       "  array([94591, 77206, 77204], dtype=int64)],\n",
       " [126.09482423645831,\n",
       "  122.56592751858663,\n",
       "  100.3147294251742,\n",
       "  2033.354315216241,\n",
       "  2255.1962517384954,\n",
       "  1686.5413534597246,\n",
       "  array([94591, 77206, 77204], dtype=int64)],\n",
       " [139.51234392000416,\n",
       "  122.75919641469353,\n",
       "  103.08807833790995,\n",
       "  1733.3672492415997,\n",
       "  462.4222898713178,\n",
       "  350.38320023302674,\n",
       "  array([94591, 77206, 77204], dtype=int64)],\n",
       " [126.85566283358646,\n",
       "  93.48383597309612,\n",
       "  107.42330223475808,\n",
       "  200.3511309830175,\n",
       "  708.0566232135649,\n",
       "  766.7155638517214,\n",
       "  array([ 18436, 159712,  70853], dtype=int64)],\n",
       " [88.01073807854138,\n",
       "  93.0844207072731,\n",
       "  79.68196503706672,\n",
       "  97.0133066921625,\n",
       "  194.13090258249312,\n",
       "  392.1975922838399,\n",
       "  array([ 18436, 159712,  70853], dtype=int64)],\n",
       " [115.19810029215418,\n",
       "  87.71378770129705,\n",
       "  94.68671757018052,\n",
       "  811.7303522705505,\n",
       "  1675.717550432284,\n",
       "  1236.2512219699995,\n",
       "  array([ 18436, 159712,  70853], dtype=int64)],\n",
       " [103.12847462901925,\n",
       "  98.54071946923936,\n",
       "  92.30234400418723,\n",
       "  460.03600247951647,\n",
       "  928.1849701121879,\n",
       "  810.0257524877713,\n",
       "  array([70691, 88815, 89495], dtype=int64)],\n",
       " [97.52891966447109,\n",
       "  99.29447728424253,\n",
       "  90.72133085627428,\n",
       "  2163.8578606369974,\n",
       "  1764.7125954755093,\n",
       "  2042.1740993203534,\n",
       "  array([70691, 88815, 89495], dtype=int64)],\n",
       " [117.47907704341024,\n",
       "  103.50672104586849,\n",
       "  103.24190178222247,\n",
       "  1573.7511030489188,\n",
       "  2359.3702006515173,\n",
       "  2786.0724557409235,\n",
       "  array([70691, 88815, 89495], dtype=int64)],\n",
       " [55.41237903417221,\n",
       "  95.42496558365376,\n",
       "  67.51229155222808,\n",
       "  95.15546413389207,\n",
       "  169.91844350521367,\n",
       "  267.7959101659925,\n",
       "  array([147459,  51095,  50447], dtype=int64)],\n",
       " [68.56618064389862,\n",
       "  95.51218318817888,\n",
       "  76.310578334475,\n",
       "  5089.68176477325,\n",
       "  5439.7215423858715,\n",
       "  5613.453442609694,\n",
       "  array([147459,  51095,  50447], dtype=int64)],\n",
       " [89.47178226653716,\n",
       "  104.96443792495094,\n",
       "  90.66311178068071,\n",
       "  5726.5297657320525,\n",
       "  2201.9156227001204,\n",
       "  1531.0942323241345,\n",
       "  array([147459,  51095,  50447], dtype=int64)],\n",
       " [59.08941556544222,\n",
       "  94.02831483717314,\n",
       "  65.87846010507803,\n",
       "  200.94865084659037,\n",
       "  733.9938519010534,\n",
       "  395.4719118781766,\n",
       "  array([181389,   7754,  59858], dtype=int64)],\n",
       " [199.8658756770699,\n",
       "  168.4018571060098,\n",
       "  185.86097498065516,\n",
       "  3670.717706451174,\n",
       "  4649.837867684431,\n",
       "  3549.086218141024,\n",
       "  array([181389,   7754,  59858], dtype=int64)],\n",
       " [128.00730061144708,\n",
       "  117.26352367269203,\n",
       "  124.56502054863176,\n",
       "  3882.4294311815056,\n",
       "  1861.4418260250893,\n",
       "  2352.905425747575,\n",
       "  array([181389,   7754,  59858], dtype=int64)],\n",
       " [119.44513874852011,\n",
       "  110.23641246282233,\n",
       "  101.25253674453525,\n",
       "  480.07268168567606,\n",
       "  710.608870419253,\n",
       "  453.2295426206586,\n",
       "  array([173155,   8635,  67211], dtype=int64)],\n",
       " [64.28384481760278,\n",
       "  81.1562246670527,\n",
       "  67.67307469600463,\n",
       "  1360.1239776847037,\n",
       "  1614.485369429557,\n",
       "  1069.1739690175693,\n",
       "  array([173155,   8635,  67211], dtype=int64)],\n",
       " [128.1731710583089,\n",
       "  116.8881879454256,\n",
       "  108.91349630268854,\n",
       "  1119.3911899611776,\n",
       "  1349.6364296087538,\n",
       "  3184.6478922669344,\n",
       "  array([173155,   8635,  67211], dtype=int64)]]"
      ]
     },
     "execution_count": 189,
     "metadata": {},
     "output_type": "execute_result"
    }
   ],
   "source": [
    "clusters_features = create_clusters_vector(mean_color_each_cluster_each_image, var_color_each_cluster_each_image, size_each_cluster_each_image)\n",
    "clusters_features = flatten_nested_list(clusters_features)\n",
    "clusters_features"
   ]
  },
  {
   "cell_type": "markdown",
   "metadata": {
    "id": "EZnhtPpgi34g"
   },
   "source": [
    "## clustering clusters"
   ]
  },
  {
   "cell_type": "code",
   "execution_count": 201,
   "metadata": {
    "id": "UJlojCZci34h"
   },
   "outputs": [
    {
     "name": "stderr",
     "output_type": "stream",
     "text": [
      "d:\\ProgramFiles\\Anaconda\\envs\\slomo\\lib\\site-packages\\sklearn\\cluster\\_kmeans.py:1416: FutureWarning: The default value of `n_init` will change from 10 to 'auto' in 1.4. Set the value of `n_init` explicitly to suppress the warning\n",
      "  super()._check_params_vs_input(X, default_n_init=10)\n",
      "d:\\ProgramFiles\\Anaconda\\envs\\slomo\\lib\\site-packages\\sklearn\\cluster\\_kmeans.py:1440: UserWarning: KMeans is known to have a memory leak on Windows with MKL, when there are less chunks than available threads. You can avoid it by setting the environment variable OMP_NUM_THREADS=1.\n",
      "  warnings.warn(\n"
     ]
    },
    {
     "data": {
      "text/plain": [
       "array([0, 0, 0, 2, 2, 2, 1, 1, 1, 2, 2, 2, 0, 0, 0, 1, 1, 1, 0, 0, 0, 1,\n",
       "       1, 1, 2, 2, 2, 1, 1, 1, 2, 2, 2, 1, 1, 1, 0, 0, 0, 0, 0, 0, 0, 0,\n",
       "       0, 0, 0, 0, 0, 0, 0, 1, 1, 1, 1, 1, 1, 1, 1, 1])"
      ]
     },
     "execution_count": 201,
     "metadata": {},
     "output_type": "execute_result"
    }
   ],
   "source": [
    "kmeans_2 = KMeans(n_clusters=3)\n",
    "clusters_features_flat = [np.concatenate([np.array(item[:-1]), item[-1]]) for item in clusters_features]\n",
    "clusters_2 = kmeans.fit_predict(clusters_features_flat)\n",
    "# clusters_2 = kmeans.fit_predict(clusters_features)\n",
    "clusters_2"
   ]
  },
  {
   "cell_type": "markdown",
   "metadata": {
    "id": "o6onYuxUi34h"
   },
   "source": [
    "## Diaplay clustered cluster"
   ]
  },
  {
   "cell_type": "code",
   "execution_count": 200,
   "metadata": {},
   "outputs": [
    {
     "data": {
      "image/png": "[encoded data removed]",
      "text/plain": [
       "<Figure size 640x480 with 1 Axes>"
      ]
     },
     "metadata": {},
     "output_type": "display_data"
    }
   ],
   "source": [
    "import matplotlib.pyplot as plt\n",
    "from sklearn.decomposition import PCA\n",
    "pca = PCA(2)\n",
    "data_transformed = pca.fit_transform(clusters_features_flat)\n",
    "\n",
    "plt.scatter(data_transformed[:, 0], data_transformed[:, 1], c=clusters_2)\n",
    "plt.show()\n"
   ]
  },
  {
   "cell_type": "code",
   "execution_count": null,
   "metadata": {},
   "outputs": [],
   "source": []
  }
 ],
 "metadata": {
  "accelerator": "GPU",
  "colab": {
   "collapsed_sections": [
    "3mVvdAtI9ONL",
    "lBEBJMkk9Tsz",
    "UcQ9WDY59Zlb",
    "06xiqibEqHid",
    "aWfpqHU1qPh4"
   ],
   "gpuType": "T4",
   "provenance": []
  },
  "kernelspec": {
   "display_name": "Python 3 (ipykernel)",
   "language": "python",
   "name": "python3"
  },
  "language_info": {
   "codemirror_mode": {
    "name": "ipython",
    "version": 3
   },
   "file_extension": ".py",
   "mimetype": "text/x-python",
   "name": "python",
   "nbconvert_exporter": "python",
   "pygments_lexer": "ipython3",
   "version": "3.10.4"
  }
 },
 "nbformat": 4,
 "nbformat_minor": 4
}
