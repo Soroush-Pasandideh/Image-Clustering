{
 "cells": [
  {
   "cell_type": "markdown",
   "metadata": {
    "id": "9w67mZW1i333",
    "jp-MarkdownHeadingCollapsed": true
   },
   "source": [
    "## imports"
   ]
  },
  {
   "cell_type": "code",
   "execution_count": 1,
   "metadata": {
    "id": "Ohy-uGrhk_6j"
   },
   "outputs": [],
   "source": [
    "import pickle\n",
    "import numpy as np\n",
    "from sklearn.cluster import KMeans\n",
    "from sklearn.preprocessing import MinMaxScaler, StandardScaler\n",
    "from sklearn.cluster import KMeans\n",
    "from sklearn.metrics import accuracy_score\n",
    "from sklearn.model_selection import train_test_split\n",
    "from sklearn.cluster import DBSCAN\n",
    "import cv2\n",
    "import random"
   ]
  },
  {
   "cell_type": "markdown",
   "metadata": {},
   "source": [
    "# Part1"
   ]
  },
  {
   "cell_type": "markdown",
   "metadata": {
    "id": "ES23zLXhi34A"
   },
   "source": [
    "## load dataset"
   ]
  },
  {
   "cell_type": "code",
   "execution_count": 5,
   "metadata": {
    "id": "5C72evWemRM_"
   },
   "outputs": [],
   "source": [
    "def load_dataset():\n",
    "  image_pickle_file_path = 'images.pkl'\n",
    "  label_pickle_file_path = 'label.pkl'\n",
    "\n",
    "  with open(image_pickle_file_path, 'rb') as file:\n",
    "    images = pickle.load(file)\n",
    "\n",
    "  with open(label_pickle_file_path, 'rb') as file:\n",
    "    labels = pickle.load(file)\n",
    "\n",
    "  # images = images.reshape(images.shape[0], -1)\n",
    "\n",
    "  return images, labels"
   ]
  },
  {
   "cell_type": "code",
   "execution_count": null,
   "metadata": {
    "id": "PegQSxmRnEAU"
   },
   "outputs": [],
   "source": [
    "images, labels = load_dataset()\n",
    "# Choose a random index along the first axis\n",
    "random_indices = np.random.choice(560, size=10, replace=False)\n",
    "print(random_indices)\n",
    "# Extract the randomly selected values\n",
    "# random_values = images[random_indices]\n",
    "images = images[200:202]"
   ]
  },
  {
   "cell_type": "markdown",
   "metadata": {
    "id": "p4EkzGxIi34C",
    "jp-MarkdownHeadingCollapsed": true
   },
   "source": [
    "## extract pixel's features"
   ]
  },
  {
   "cell_type": "code",
   "execution_count": 7,
   "metadata": {
    "id": "niz6RZqTi34D"
   },
   "outputs": [],
   "source": [
    "def extract_features(images):\n",
    "    features = []\n",
    "    original_features = []\n",
    "\n",
    "    # For each image in the dataset\n",
    "    for img in images:\n",
    "\n",
    "        # Reshape the image back to a 2D array\n",
    "        # img_hsv = img_hsv.reshape((height, width, 3))\n",
    "        height, width, _ = img.shape\n",
    "        img_hsv = cv2.cvtColor(img, cv2.COLOR_BGR2HSV)\n",
    "\n",
    "        # For each pixel in the image\n",
    "        for i in range(img_hsv.shape[0]):\n",
    "            for j in range(img_hsv.shape[1]):\n",
    "                pixel = img_hsv[i, j]\n",
    "                h, s, v = pixel\n",
    "                x, y = i, j\n",
    "\n",
    "                original_features.append((h,s,v,x,y))\n",
    "\n",
    "                h_weight = 10\n",
    "                s_weight = 1\n",
    "                v_weight = 1\n",
    "                x_weight = 0.1\n",
    "                y_weight = 0.1\n",
    "                h, s, v = h * h_weight, s * s_weight, v * v_weight\n",
    "                x, y = x * x_weight, y * y_weight\n",
    "\n",
    "                features.append((h, s, v, x, y))\n",
    "\n",
    "    return features, original_features"
   ]
  },
  {
   "cell_type": "markdown",
   "metadata": {
    "id": "8YwSTxgsi34E",
    "jp-MarkdownHeadingCollapsed": true
   },
   "source": [
    "## normalizing features"
   ]
  },
  {
   "cell_type": "code",
   "execution_count": null,
   "metadata": {
    "id": "thgfwhB_i34F"
   },
   "outputs": [],
   "source": [
    "def normalize_features(features):\n",
    "    features_array = np.array(features)\n",
    "    scaler = StandardScaler()\n",
    "    normalized_features_array = scaler.fit_transform(features_array)\n",
    "    normalized_features = normalized_features_array.tolist()\n",
    "    return normalized_features"
   ]
  },
  {
   "cell_type": "markdown",
   "metadata": {
    "id": "lhdoGPXci34G"
   },
   "source": [
    "## Proccess on images\n",
    "Make extract features into an array and normalize it"
   ]
  },
  {
   "cell_type": "code",
   "execution_count": 25,
   "metadata": {
    "id": "JPSriJDwi34G"
   },
   "outputs": [],
   "source": [
    "def process_images_in_chunks(images, chunk_size):\n",
    "    features = []\n",
    "    original_features = []\n",
    "    num_images = len(images)\n",
    "\n",
    "    for i in range(0, num_images, chunk_size):\n",
    "        # Extract features for a chunk of images\n",
    "        chunk_features, chunk_original_features = extract_features(images[i:i+chunk_size])\n",
    "\n",
    "        # Append the features to the overall features list\n",
    "        features.extend(chunk_features)\n",
    "        original_features.extend(chunk_original_features)\n",
    "\n",
    "        print('<<', i, '>>')\n",
    "\n",
    "    return features, original_features\n"
   ]
  },
  {
   "cell_type": "code",
   "execution_count": 30,
   "metadata": {
    "colab": {
     "base_uri": "https://localhost:8080/"
    },
    "id": "4zo_qGUNi34H",
    "outputId": "44412444-40e7-41ab-e547-d11217b7b25f"
   },
   "outputs": [
    {
     "name": "stdout",
     "output_type": "stream",
     "text": [
      "<< 0 >>\n",
      "<< 5 >>\n",
      "<< 10 >>\n",
      "<< 15 >>\n"
     ]
    },
    {
     "ename": "KeyboardInterrupt",
     "evalue": "",
     "output_type": "error",
     "traceback": [
      "\u001b[0;31m---------------------------------------------------------------------------\u001b[0m",
      "\u001b[0;31mKeyboardInterrupt\u001b[0m                         Traceback (most recent call last)",
      "Cell \u001b[0;32mIn[30], line 3\u001b[0m\n\u001b[1;32m      1\u001b[0m \u001b[38;5;66;03m# extract features\u001b[39;00m\n\u001b[1;32m      2\u001b[0m chunk_size \u001b[38;5;241m=\u001b[39m \u001b[38;5;241m5\u001b[39m\n\u001b[0;32m----> 3\u001b[0m features, original_features \u001b[38;5;241m=\u001b[39m \u001b[43mprocess_images_in_chunks\u001b[49m\u001b[43m(\u001b[49m\u001b[43mimages\u001b[49m\u001b[43m,\u001b[49m\u001b[43m \u001b[49m\u001b[43mchunk_size\u001b[49m\u001b[43m)\u001b[49m\n\u001b[1;32m      4\u001b[0m \u001b[38;5;66;03m# features, original_features = process_images_in_chunks(random_values, chunk_size)\u001b[39;00m\n",
      "Cell \u001b[0;32mIn[25], line 8\u001b[0m, in \u001b[0;36mprocess_images_in_chunks\u001b[0;34m(images, chunk_size)\u001b[0m\n\u001b[1;32m      4\u001b[0m num_images \u001b[38;5;241m=\u001b[39m \u001b[38;5;28mlen\u001b[39m(images)\n\u001b[1;32m      6\u001b[0m \u001b[38;5;28;01mfor\u001b[39;00m i \u001b[38;5;129;01min\u001b[39;00m \u001b[38;5;28mrange\u001b[39m(\u001b[38;5;241m0\u001b[39m, num_images, chunk_size):\n\u001b[1;32m      7\u001b[0m     \u001b[38;5;66;03m# Extract features for a chunk of images\u001b[39;00m\n\u001b[0;32m----> 8\u001b[0m     chunk_features, chunk_original_features \u001b[38;5;241m=\u001b[39m \u001b[43mextract_features\u001b[49m\u001b[43m(\u001b[49m\u001b[43mimages\u001b[49m\u001b[43m[\u001b[49m\u001b[43mi\u001b[49m\u001b[43m:\u001b[49m\u001b[43mi\u001b[49m\u001b[38;5;241;43m+\u001b[39;49m\u001b[43mchunk_size\u001b[49m\u001b[43m]\u001b[49m\u001b[43m)\u001b[49m\n\u001b[1;32m     10\u001b[0m     \u001b[38;5;66;03m# Append the features to the overall features list\u001b[39;00m\n\u001b[1;32m     11\u001b[0m     features\u001b[38;5;241m.\u001b[39mextend(chunk_features)\n",
      "Cell \u001b[0;32mIn[7], line 30\u001b[0m, in \u001b[0;36mextract_features\u001b[0;34m(images)\u001b[0m\n\u001b[1;32m     27\u001b[0m             h, s, v \u001b[38;5;241m=\u001b[39m h \u001b[38;5;241m*\u001b[39m h_weight, s \u001b[38;5;241m*\u001b[39m s_weight, v \u001b[38;5;241m*\u001b[39m v_weight\n\u001b[1;32m     28\u001b[0m             x, y \u001b[38;5;241m=\u001b[39m x \u001b[38;5;241m*\u001b[39m x_weight, y \u001b[38;5;241m*\u001b[39m y_weight\n\u001b[0;32m---> 30\u001b[0m             \u001b[43mfeatures\u001b[49m\u001b[38;5;241;43m.\u001b[39;49m\u001b[43mappend\u001b[49m\u001b[43m(\u001b[49m\u001b[43m(\u001b[49m\u001b[43mh\u001b[49m\u001b[43m,\u001b[49m\u001b[43m \u001b[49m\u001b[43ms\u001b[49m\u001b[43m,\u001b[49m\u001b[43m \u001b[49m\u001b[43mv\u001b[49m\u001b[43m,\u001b[49m\u001b[43m \u001b[49m\u001b[43mx\u001b[49m\u001b[43m,\u001b[49m\u001b[43m \u001b[49m\u001b[43my\u001b[49m\u001b[43m)\u001b[49m\u001b[43m)\u001b[49m\n\u001b[1;32m     32\u001b[0m \u001b[38;5;28;01mreturn\u001b[39;00m features, original_features\n",
      "\u001b[0;31mKeyboardInterrupt\u001b[0m: "
     ]
    }
   ],
   "source": [
    "# extract features\n",
    "chunk_size = 5\n",
    "features, original_features = process_images_in_chunks(images, chunk_size)\n",
    "# features, original_features = process_images_in_chunks(random_values, chunk_size)"
   ]
  },
  {
   "cell_type": "code",
   "execution_count": null,
   "metadata": {
    "id": "D_vQuK0ii34J"
   },
   "outputs": [],
   "source": [
    "# normalize features\n",
    "features = normalize_features(features)"
   ]
  },
  {
   "cell_type": "markdown",
   "metadata": {
    "id": "b4kDj4dsi34K"
   },
   "source": [
    "## clustering"
   ]
  },
  {
   "cell_type": "markdown",
   "metadata": {
    "id": "2yxNa4MT9EQ_"
   },
   "source": [
    "### k-means"
   ]
  },
  {
   "cell_type": "code",
   "execution_count": 29,
   "metadata": {
    "id": "g3BrJgCQi34K"
   },
   "outputs": [
    {
     "name": "stderr",
     "output_type": "stream",
     "text": [
      "/usr/local/lib/python3.10/dist-packages/sklearn/cluster/_kmeans.py:1416: FutureWarning: The default value of `n_init` will change from 10 to 'auto' in 1.4. Set the value of `n_init` explicitly to suppress the warning\n",
      "  super()._check_params_vs_input(X, default_n_init=10)\n"
     ]
    },
    {
     "ename": "ValueError",
     "evalue": "cannot reshape array of size 2490010 into shape (560,499,499)",
     "output_type": "error",
     "traceback": [
      "\u001b[0;31m---------------------------------------------------------------------------\u001b[0m",
      "\u001b[0;31mValueError\u001b[0m                                Traceback (most recent call last)",
      "Cell \u001b[0;32mIn[29], line 3\u001b[0m\n\u001b[1;32m      1\u001b[0m kmeans \u001b[38;5;241m=\u001b[39m KMeans(n_clusters\u001b[38;5;241m=\u001b[39m\u001b[38;5;241m3\u001b[39m)\n\u001b[1;32m      2\u001b[0m clusters \u001b[38;5;241m=\u001b[39m kmeans\u001b[38;5;241m.\u001b[39mfit_predict(features)\n\u001b[0;32m----> 3\u001b[0m clusters \u001b[38;5;241m=\u001b[39m \u001b[43mclusters\u001b[49m\u001b[38;5;241;43m.\u001b[39;49m\u001b[43mreshape\u001b[49m\u001b[43m(\u001b[49m\u001b[43mimages\u001b[49m\u001b[38;5;241;43m.\u001b[39;49m\u001b[43mshape\u001b[49m\u001b[43m[\u001b[49m\u001b[38;5;241;43m0\u001b[39;49m\u001b[43m]\u001b[49m\u001b[43m,\u001b[49m\u001b[43m \u001b[49m\u001b[43mimages\u001b[49m\u001b[38;5;241;43m.\u001b[39;49m\u001b[43mshape\u001b[49m\u001b[43m[\u001b[49m\u001b[38;5;241;43m1\u001b[39;49m\u001b[43m]\u001b[49m\u001b[43m,\u001b[49m\u001b[43m \u001b[49m\u001b[43mimages\u001b[49m\u001b[38;5;241;43m.\u001b[39;49m\u001b[43mshape\u001b[49m\u001b[43m[\u001b[49m\u001b[38;5;241;43m2\u001b[39;49m\u001b[43m]\u001b[49m\u001b[43m)\u001b[49m\n",
      "\u001b[0;31mValueError\u001b[0m: cannot reshape array of size 2490010 into shape (560,499,499)"
     ]
    }
   ],
   "source": [
    "kmeans = KMeans(n_clusters=3)\n",
    "clusters = kmeans.fit_predict(features)\n",
    "clusters = clusters.reshape(images.shape[0], images.shape[1], images.shape[2])"
   ]
  },
  {
   "cell_type": "code",
   "execution_count": null,
   "metadata": {},
   "outputs": [],
   "source": [
    "print(len(clusters"
   ]
  },
  {
   "cell_type": "markdown",
   "metadata": {
    "id": "3mVvdAtI9ONL",
    "jp-MarkdownHeadingCollapsed": true
   },
   "source": [
    "### db-scan"
   ]
  },
  {
   "cell_type": "code",
   "execution_count": null,
   "metadata": {
    "id": "-GGl1Puoi34L"
   },
   "outputs": [],
   "source": [
    "# dbscan = DBSCAN(eps=50, min_samples=5)\n",
    "# clusters = dbscan.fit_predict(features)\n",
    "# clusters = clusters.reshape(images.shape[0], images.shape[1], images.shape[2])"
   ]
  },
  {
   "cell_type": "markdown",
   "metadata": {
    "id": "lBEBJMkk9Tsz",
    "jp-MarkdownHeadingCollapsed": true
   },
   "source": [
    "### db-scann"
   ]
  },
  {
   "cell_type": "code",
   "execution_count": null,
   "metadata": {
    "id": "y3jQFS2puMUI"
   },
   "outputs": [],
   "source": [
    "# import numpy as np\n",
    "# from sklearn.cluster import DBSCAN\n",
    "\n",
    "# # Apply DBSCAN with parallelization\n",
    "# db = DBSCAN(eps=0.5, min_samples=10).fit(features)\n",
    "# labels = db.labels_\n",
    "\n",
    "# # Number of clusters in labels,a ignoring noise if present.\n",
    "# n_clusters_ = len(set(labels)) - (1 if -1 in labels else 0)\n",
    "# n_noise_ = list(labels).count(-1)\n",
    "\n",
    "# print(\"Estimated number of clusters: %d\" % n_clusters_)\n",
    "# print(\"Estimated number of noise points: %d\" % n_noise_)"
   ]
  },
  {
   "cell_type": "markdown",
   "metadata": {
    "id": "UcQ9WDY59Zlb"
   },
   "source": [
    "### mean-shift"
   ]
  },
  {
   "cell_type": "code",
   "execution_count": null,
   "metadata": {
    "id": "VC_zG3h5nvwv"
   },
   "outputs": [],
   "source": [
    "# import numpy as np\n",
    "# from sklearn.cluster import MeanShift, estimate_bandwidth\n",
    "\n",
    "# # Estimate bandwidth (this can be adjusted based on your data)\n",
    "# bandwidth = estimate_bandwidth(features, quantile=0.2, n_samples=500)\n",
    "\n",
    "# # Apply Mean Shift\n",
    "# ms = MeanShift(bandwidth=bandwidth, bin_seeding=True)\n",
    "# ms.fit(features)\n",
    "\n",
    "# # Access cluster labels and cluster centers\n",
    "# labels = ms.labels_\n",
    "# cluster_centers = ms.cluster_centers_\n",
    "\n",
    "# # Number of clusters\n",
    "# n_clusters_ = len(np.unique(labels))\n",
    "\n",
    "# print(\"Estimated number of clusters: %d\" % n_clusters_)\n",
    "# print(\"Estimated number of noise points: %d\" % n_noise_)\n"
   ]
  },
  {
   "cell_type": "markdown",
   "metadata": {
    "id": "EHDcDZl4h1br"
   },
   "source": []
  },
  {
   "cell_type": "markdown",
   "metadata": {
    "id": "t9ot8z8YtNmX"
   },
   "source": [
    "### plot k-means"
   ]
  },
  {
   "cell_type": "markdown",
   "metadata": {
    "id": "wBw3XaPc-BoW"
   },
   "source": [
    "#### 3D"
   ]
  },
  {
   "cell_type": "code",
   "execution_count": null,
   "metadata": {
    "id": "263XUsaMtMxo"
   },
   "outputs": [],
   "source": [
    "# import numpy as np\n",
    "# import matplotlib.pyplot as plt\n",
    "# from mpl_toolkits.mplot3d import Axes3D  # Importing the 3D plotting toolkit\n",
    "\n",
    "# # Example data (replace this with your actual data)\n",
    "# vectors = np.array(original_features)\n",
    "# cluster_labels = clusters.reshape(clusters.shape[0]*clusters.shape[1]*clusters.shape[2])\n",
    "\n",
    "# # Create a 3D plot\n",
    "# fig = plt.figure()\n",
    "# ax = fig.add_subplot(111, projection='3d')\n",
    "\n",
    "# # Plot vectors with different colors based on their clusters\n",
    "# for cluster_label in np.unique(cluster_labels):\n",
    "#     mask = (cluster_labels == cluster_label)\n",
    "#     ax.scatter(vectors[mask, 3], vectors[mask, 4], vectors[mask, 2], label=f'Cluster {cluster_label}')\n",
    "\n",
    "# # Set labels\n",
    "# ax.set_xlabel('X')\n",
    "# ax.set_ylabel('Y')\n",
    "# ax.set_zlabel('Z')\n",
    "\n",
    "# # Add a legend\n",
    "# ax.legend()\n",
    "\n",
    "# # Show the 3D plot\n",
    "# plt.show()\n"
   ]
  },
  {
   "cell_type": "markdown",
   "metadata": {
    "id": "e3W1vJTW-GsB"
   },
   "source": [
    "#### 2D"
   ]
  },
  {
   "cell_type": "code",
   "execution_count": null,
   "metadata": {
    "id": "mbW3nHPT-KQa"
   },
   "outputs": [],
   "source": [
    "# import numpy as np\n",
    "# import matplotlib.pyplot as plt\n",
    "\n",
    "# # Example data (replace this with your actual data)\n",
    "# vectors = np.array(original_features)\n",
    "# cluster_labels = clusters.reshape(clusters.shape[0]*clusters.shape[1]*clusters.shape[2])\n",
    "\n",
    "# # Plot vectors with different colors based on their clusters\n",
    "# for cluster_label in np.unique(cluster_labels):\n",
    "#     mask = (cluster_labels == cluster_label)\n",
    "#     plt.scatter(vectors[mask, 3], vectors[mask, 4], label=f'Cluster {cluster_label}')\n",
    "\n",
    "# # Set labels\n",
    "# plt.xlabel('X')\n",
    "# plt.ylabel('Y')\n",
    "\n",
    "# # Add a legend\n",
    "# plt.legend()\n",
    "\n",
    "# # Show the plot\n",
    "# plt.show()\n"
   ]
  },
  {
   "cell_type": "markdown",
   "metadata": {
    "id": "06xiqibEqHid"
   },
   "source": [
    "### plot db-scan"
   ]
  },
  {
   "cell_type": "code",
   "execution_count": null,
   "metadata": {
    "id": "M9kX0cuMuM9C"
   },
   "outputs": [],
   "source": [
    "# # @title Default title text\n",
    "# import matplotlib.pyplot as plt\n",
    "# from sklearn.preprocessing import StandardScaler\n",
    "\n",
    "# featuress = StandardScaler().fit_transform(features)\n",
    "\n",
    "# unique_labels = set(labels)\n",
    "# core_samples_mask = np.zeros_like(labels, dtype=bool)\n",
    "# core_samples_mask[db.core_sample_indices_] = True\n",
    "\n",
    "# colors = [plt.cm.Spectral(each) for each in np.linspace(0, 1, len(unique_labels))]\n",
    "# for k, col in zip(unique_labels, colors):\n",
    "#     if k == -1:\n",
    "#         # Black used for noise.\n",
    "#         col = [0, 0, 0, 1]\n",
    "\n",
    "#     class_member_mask = labels == k\n",
    "\n",
    "#     xy = featuress[class_member_mask & core_samples_mask]\n",
    "#     plt.plot(\n",
    "#         xy[:, 0],\n",
    "#         xy[:, 1],\n",
    "#         \".\",\n",
    "#         markerfacecolor=tuple(col),\n",
    "#         markeredgecolor=\"k\",\n",
    "#         markersize=14,\n",
    "#     )\n",
    "\n",
    "#     xy = featuress[class_member_mask & ~core_samples_mask]\n",
    "#     plt.plot(\n",
    "#         xy[:, 0],\n",
    "#         xy[:, 1],\n",
    "#         \"o\",\n",
    "#         markerfacecolor=tuple(col),\n",
    "#         markeredgecolor=\"k\",\n",
    "#         markersize=6,\n",
    "#     )\n",
    "\n",
    "# plt.title(f\"Estimated number of clusters: {n_clusters_}\")\n",
    "# plt.show()"
   ]
  },
  {
   "cell_type": "markdown",
   "metadata": {
    "id": "aWfpqHU1qPh4"
   },
   "source": [
    "### plot mean-shift"
   ]
  },
  {
   "cell_type": "code",
   "execution_count": null,
   "metadata": {
    "id": "X6blDdubpQz1"
   },
   "outputs": [],
   "source": [
    "# import matplotlib.pyplot as plt\n",
    "# from mpl_toolkits.mplot3d import Axes3D\n",
    "# from itertools import cycle\n",
    "# import numpy as np\n",
    "\n",
    "# def plot_mean_shift_clusters_3d(features, labels, cluster_centers):\n",
    "#     # Number of clusters\n",
    "#     n_clusters = len(cluster_centers)\n",
    "\n",
    "#     # Define colors for plotting\n",
    "#     colors = cycle('bgrcmykbgrcmykbgrcmykbgrcmyk')\n",
    "\n",
    "#     fig = plt.figure(figsize=(12, 8))\n",
    "#     ax = fig.add_subplot(111, projection='3d')\n",
    "\n",
    "#     for k, col in zip(range(n_clusters), colors):\n",
    "#         cluster_points = np.array(features)[labels == k]\n",
    "#         ax.scatter(cluster_points[:, 0], cluster_points[:, 1], cluster_points[:, 2], c=col, marker='.', s=50, edgecolors='k')\n",
    "\n",
    "#         # Mark the cluster center\n",
    "#         cluster_center = cluster_centers[k]\n",
    "#         ax.scatter(cluster_center[0], cluster_center[1], cluster_center[2], c=col, marker='x', s=200, edgecolors='k')\n",
    "\n",
    "#     ax.set_title('Mean Shift Clustering (3D)')\n",
    "#     ax.set_xlabel('Feature 1')\n",
    "#     ax.set_ylabel('Feature 2')\n",
    "#     ax.set_zlabel('Feature 3')\n",
    "\n",
    "#     plt.show()\n",
    "\n",
    "# # Example usage:\n",
    "# # Assuming you have a 5D feature array, replace it with your actual feature array\n",
    "# # Replace 'features', 'labels', and 'cluster_centers' with your actual variable names\n",
    "# plot_mean_shift_clusters_3d(features, labels, cluster_centers)\n"
   ]
  },
  {
   "cell_type": "markdown",
   "metadata": {
    "id": "Zi_CypDqi34L"
   },
   "source": [
    "## extracting clusters features for each image sepratedly"
   ]
  },
  {
   "cell_type": "markdown",
   "metadata": {},
   "source": [
    "### mean color for each cluster in each image"
   ]
  },
  {
   "cell_type": "code",
   "execution_count": null,
   "metadata": {},
   "outputs": [],
   "source": [
    "import numpy as np\n",
    "\n",
    "def calculate_mean(first_array, second_array):\n",
    "    \n",
    "    mean_values = []\n",
    "    unique_elements = np.unique(first_array)\n",
    "        \n",
    "    for element in unique_elements:\n",
    "        indices = np.where(first_array == element)\n",
    "        mean_hsv = np.mean(second_array[indices], axis=0)\n",
    "        mean_values.append(mean_hsv.tolist())\n",
    "\n",
    "    return mean_values"
   ]
  },
  {
   "cell_type": "code",
   "execution_count": null,
   "metadata": {},
   "outputs": [],
   "source": [
    "mean_color_each_cluster_each_image = []\n",
    "for i in range(images.shape[0]):\n",
    "    mean_values = calculate_mean(clusters[i], images[i])\n",
    "    mean_color_each_cluster_each_image.append(np.array(mean_values))\n",
    "\n",
    "mean_color_each_cluster_each_image = np.array(mean_color_each_cluster_each_image)\n",
    "mean_color_each_cluster_each_image"
   ]
  },
  {
   "cell_type": "markdown",
   "metadata": {},
   "source": [
    "### variance color for each cluster in each image"
   ]
  },
  {
   "cell_type": "code",
   "execution_count": null,
   "metadata": {},
   "outputs": [],
   "source": [
    "import numpy as np\n",
    "\n",
    "def calculate_variance(first_array, second_array):\n",
    "    \n",
    "    variance_values = []\n",
    "    unique_elements = np.unique(first_array)\n",
    "    \n",
    "    for element in unique_elements:\n",
    "        indices = np.where(first_array == element)\n",
    "        var_hsv = np.var(second_array[indices], axis=0)\n",
    "        variance_values.append(var_hsv.tolist())\n",
    "\n",
    "    return variance_values\n"
   ]
  },
  {
   "cell_type": "code",
   "execution_count": null,
   "metadata": {},
   "outputs": [],
   "source": [
    "var_color_each_cluster_each_image = []\n",
    "for i in range(images.shape[0]):\n",
    "    var_values = calculate_variance(clusters[i], images[i])\n",
    "    var_color_each_cluster_each_image.append(np.array(var_values))\n",
    "\n",
    "var_color_each_cluster_each_image = np.array(var_color_each_cluster_each_image)\n",
    "var_color_each_cluster_each_image"
   ]
  },
  {
   "cell_type": "markdown",
   "metadata": {},
   "source": [
    "### size of clusters in each image"
   ]
  },
  {
   "cell_type": "code",
   "execution_count": null,
   "metadata": {},
   "outputs": [],
   "source": [
    "def calculate_size(clusters):\n",
    "    size_each_cluster_each_image = []\n",
    "\n",
    "    for i in range(clusters.shape[0]):\n",
    "        unique_clusters, counts = np.unique(clusters[i], return_counts=True)\n",
    "        each_clusters_size = counts\n",
    "        size_each_cluster_each_image.append(each_clusters_size)\n",
    "\n",
    "    size_each_cluster_each_image = np.array(size_each_cluster_each_image)\n",
    "    return size_each_cluster_each_image"
   ]
  },
  {
   "cell_type": "code",
   "execution_count": null,
   "metadata": {},
   "outputs": [],
   "source": [
    "size_each_cluster_each_image = calculate_size(clusters)\n",
    "size_each_cluster_each_image"
   ]
  },
  {
   "cell_type": "markdown",
   "metadata": {},
   "source": [
    "## extracting clusters features totally"
   ]
  },
  {
   "cell_type": "markdown",
   "metadata": {},
   "source": [
    "### mean color of clusters totally"
   ]
  },
  {
   "cell_type": "code",
   "execution_count": null,
   "metadata": {
    "id": "OFG_Oueri34L"
   },
   "outputs": [],
   "source": [
    "# Calculate the mean color for each cluster\n",
    "def cluster_mean_value(kmeans, clusters):\n",
    "    cluster_means = []\n",
    "    for cluster in range(kmeans.n_clusters):\n",
    "        mask = (clusters == cluster)\n",
    "        cluster_mean = np.mean(images * mask[:, :, :, np.newaxis], axis=(0, 1, 2)) / np.mean(mask)\n",
    "        cluster_means.append(cluster_mean)\n",
    "\n",
    "    # Convert the mean colors to integer values\n",
    "    cluster_means = np.round(cluster_means).astype(int)\n",
    "    return cluster_means"
   ]
  },
  {
   "cell_type": "code",
   "execution_count": null,
   "metadata": {
    "id": "nH5Vrm4_i34L"
   },
   "outputs": [],
   "source": [
    "clusters_mean = cluster_mean_value(kmeans, clusters)\n",
    "# clusters_mean.reshape(clusters_mean.shape[0]*clusters_mean.shape[1])"
   ]
  },
  {
   "cell_type": "markdown",
   "metadata": {
    "id": "oE_DUIF5i34M"
   },
   "source": [
    "### variance color of clusters"
   ]
  },
  {
   "cell_type": "code",
   "execution_count": null,
   "metadata": {
    "id": "jVgZgLgPi34M"
   },
   "outputs": [],
   "source": [
    "def cluster_variance_value(kmeans, clusters):\n",
    "    cluster_variances = []\n",
    "    for cluster in range(kmeans.n_clusters):\n",
    "        mask = (clusters == cluster)\n",
    "        cluster_pixels = images[mask]\n",
    "\n",
    "        # Calculate the variance along each channel\n",
    "        cluster_variance = np.var(cluster_pixels, axis=0)\n",
    "\n",
    "        cluster_variances.append(cluster_variance)\n",
    "\n",
    "    # Convert the variance colors to integer values\n",
    "    cluster_variances = np.round(cluster_variances).astype(int)\n",
    "    return cluster_variances"
   ]
  },
  {
   "cell_type": "code",
   "execution_count": null,
   "metadata": {
    "id": "xIp8qHrYi34M"
   },
   "outputs": [],
   "source": [
    "clusters_variance = cluster_variance_value(kmeans, clusters)\n",
    "clusters_variance"
   ]
  },
  {
   "cell_type": "markdown",
   "metadata": {
    "id": "S0HWN3g5i34N"
   },
   "source": [
    "### size of clusters"
   ]
  },
  {
   "cell_type": "code",
   "execution_count": null,
   "metadata": {
    "id": "JhFRFUJ7i34N"
   },
   "outputs": [],
   "source": [
    "def cluster_size(clusters):\n",
    "    clusters_array = np.array(clusters)\n",
    "    unique_clusters, counts = np.unique(clusters_array, return_counts=True)\n",
    "    return counts\n"
   ]
  },
  {
   "cell_type": "code",
   "execution_count": null,
   "metadata": {
    "id": "MkmFFU4Qi34N"
   },
   "outputs": [],
   "source": [
    "clusters_size = cluster_size(clusters)\n",
    "clusters_size"
   ]
  },
  {
   "cell_type": "markdown",
   "metadata": {
    "id": "1CmaoBEki34N"
   },
   "source": [
    "### area of clusters"
   ]
  },
  {
   "cell_type": "code",
   "execution_count": null,
   "metadata": {
    "id": "K13dCkpNi34O"
   },
   "outputs": [],
   "source": [
    "def clusters_areas(original_features):\n",
    "    # Create an array to store the x and y coordinates for each cluster\n",
    "    cluster_coordinates = np.zeros((len(np.unique(clusters)), 4))\n",
    "    reshaped_clusters = clusters.reshape(clusters.shape[0]*clusters.shape[1]*clusters.shape[2])\n",
    "    # Iterate over each cluster\n",
    "    for cluster_label in np.unique(reshaped_clusters):\n",
    "        # Get indices of pixels in the current cluster\n",
    "        indices = np.where(reshaped_clusters == cluster_label)\n",
    "        indices = np.array(indices)\n",
    "        indices = indices.reshape(indices.shape[1])\n",
    "        # indices = indices.tolist()\n",
    "        x_coordinates=list()\n",
    "        y_coordinates=list()\n",
    "        # Extract x and y coordinates\n",
    "        for i in indices:\n",
    "            x_coordinates.append(original_features[i][3])\n",
    "            y_coordinates.append(original_features[i][4])\n",
    "\n",
    "        # Calculate minimum and maximum x and y coordinates\n",
    "        min_x, max_x = np.min(x_coordinates), np.max(x_coordinates)\n",
    "        min_y, max_y = np.min(y_coordinates), np.max(y_coordinates)\n",
    "\n",
    "        # Calculate width and height\n",
    "        width = max_x - min_x\n",
    "        height = max_y - min_y\n",
    "\n",
    "        # Store the results in the cluster_coordinates array\n",
    "        cluster_coordinates[cluster_label] = [min_x, min_y, width, height]\n",
    "\n",
    "    # Calculate the area for each cluster\n",
    "    cluster_area = cluster_coordinates[:, 2] * cluster_coordinates[:, 3]\n",
    "    return cluster_area\n"
   ]
  },
  {
   "cell_type": "code",
   "execution_count": null,
   "metadata": {
    "id": "1BOLsqvRi34O"
   },
   "outputs": [],
   "source": [
    "clusters_area = clusters_areas(original_features)\n",
    "clusters_area"
   ]
  },
  {
   "cell_type": "markdown",
   "metadata": {
    "id": "2UJ8UdX6i34P"
   },
   "source": [
    "## display clustering"
   ]
  },
  {
   "cell_type": "code",
   "execution_count": null,
   "metadata": {
    "id": "d2YYqr8Ri34P"
   },
   "outputs": [],
   "source": [
    "def display_clusters(cluster_means):\n",
    "    # Display images with cluster colors\n",
    "    for i, image in enumerate(images[:10]):\n",
    "        cv2.imshow('Original', images[i])\n",
    "\n",
    "        # Create a blank image for displaying clustered colors\n",
    "        cluster_image = np.zeros_like(image)\n",
    "\n",
    "        # Assign the mean color to each pixel based on the cluster assignment\n",
    "        for cluster, mean_color in enumerate(cluster_means):\n",
    "            mask = (clusters[i] == cluster)\n",
    "            cluster_image[mask] = mean_color\n",
    "\n",
    "        cv2.imshow('Clustered', cluster_image)\n",
    "        cv2.waitKey(0)\n",
    "\n",
    "    cv2.destroyAllWindows()"
   ]
  },
  {
   "cell_type": "code",
   "execution_count": null,
   "metadata": {
    "id": "JKhlyjmBi34P"
   },
   "outputs": [],
   "source": [
    "display_clusters(clusters_mean)"
   ]
  },
  {
   "cell_type": "markdown",
   "metadata": {
    "id": "VFn0nBVDi34f"
   },
   "source": [
    "## create clusters feature vectors 💢"
   ]
  },
  {
   "cell_type": "code",
   "execution_count": null,
   "metadata": {
    "id": "11jURYBei34f"
   },
   "outputs": [],
   "source": [
    "# todo\n",
    "# def create_clusters_vector(clusters_mean, clusters_variance, clusters_size, clusters_area):\n",
    "\n",
    "#     result = []\n",
    "#     for mean, variance, size, area in zip(clusters_mean, clusters_variance, clusters_size, clusters_area):\n",
    "#         combined_row = [mean.tolist(), variance.tolist(), size, area]\n",
    "\n",
    "#         result.append(combined_row)\n",
    "\n",
    "#     return result"
   ]
  },
  {
   "cell_type": "code",
   "execution_count": null,
   "metadata": {
    "id": "kdoWEeURi34g"
   },
   "outputs": [],
   "source": [
    "def flatten_nested_list(nested_list):\n",
    "    return [[item for sublist in lst for item in (sublist if isinstance(sublist, list) else [sublist])] for lst in nested_list]"
   ]
  },
  {
   "cell_type": "code",
   "execution_count": null,
   "metadata": {
    "id": "XxDRoNKmi34g"
   },
   "outputs": [],
   "source": [
    "clusters_features = create_clusters_vector(clusters_mean, clusters_variance, clusters_size, clusters_area)\n",
    "clusters_features = flatten_nested_list(clusters_features)\n",
    "clusters_features"
   ]
  },
  {
   "cell_type": "markdown",
   "metadata": {
    "id": "EZnhtPpgi34g"
   },
   "source": [
    "## clustering clusters 💢"
   ]
  },
  {
   "cell_type": "code",
   "execution_count": null,
   "metadata": {
    "id": "UJlojCZci34h"
   },
   "outputs": [],
   "source": [
    "# kmeans_2 = KMeans(n_clusters=3)\n",
    "# clusters_2 = kmeans.fit_predict(clusters_features)\n",
    "# clusters_2"
   ]
  },
  {
   "cell_type": "markdown",
   "metadata": {
    "id": "o6onYuxUi34h"
   },
   "source": [
    "## Diaplay clustered cluster 💢"
   ]
  },
  {
   "cell_type": "markdown",
   "metadata": {},
   "source": [
    "# Part 2"
   ]
  }
 ],
 "metadata": {
  "accelerator": "GPU",
  "colab": {
   "collapsed_sections": [
    "3mVvdAtI9ONL",
    "lBEBJMkk9Tsz",
    "UcQ9WDY59Zlb",
    "06xiqibEqHid",
    "aWfpqHU1qPh4"
   ],
   "gpuType": "T4",
   "provenance": []
  },
  "kernelspec": {
   "display_name": "Python 3 (ipykernel)",
   "language": "python",
   "name": "python3"
  },
  "language_info": {
   "codemirror_mode": {
    "name": "ipython",
    "version": 3
   },
   "file_extension": ".py",
   "mimetype": "text/x-python",
   "name": "python",
   "nbconvert_exporter": "python",
   "pygments_lexer": "ipython3",
   "version": "3.10.12"
  }
 },
 "nbformat": 4,
 "nbformat_minor": 4
}
