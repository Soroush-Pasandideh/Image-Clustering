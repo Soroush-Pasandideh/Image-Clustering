{
 "cells": [
  {
   "cell_type": "code",
   "execution_count": null,
   "metadata": {
    "id": "Ohy-uGrhk_6j"
   },
   "outputs": [],
   "source": [
    "import pickle\n",
    "import numpy as np\n",
    "from sklearn.model_selection import train_test_split\n",
    "from sklearn.ensemble import RandomForestClassifier\n",
    "from sklearn.metrics import accuracy_score\n",
    "from sklearn.cluster import KMeans\n",
    "import cv2"
   ]
  },
  {
   "cell_type": "code",
   "execution_count": null,
   "metadata": {
    "id": "5C72evWemRM_"
   },
   "outputs": [],
   "source": [
    "def load_dataset():\n",
    "  image_pickle_file_path = 'images.pkl'\n",
    "  label_pickle_file_path = 'label.pkl'\n",
    "\n",
    "  with open(image_pickle_file_path, 'rb') as file:\n",
    "    images = pickle.load(file)\n",
    "\n",
    "  with open(label_pickle_file_path, 'rb') as file:\n",
    "    labels = pickle.load(file)\n",
    "\n",
    "  # images = images.reshape(images.shape[0], -1)\n",
    "\n",
    "  return images, labels"
   ]
  },
  {
   "cell_type": "code",
   "execution_count": null,
   "metadata": {
    "id": "PegQSxmRnEAU"
   },
   "outputs": [],
   "source": [
    "images, labels = load_dataset()\n",
    "images = images[:20]"
   ]
  },
  {
   "cell_type": "code",
   "execution_count": null,
   "metadata": {},
   "outputs": [],
   "source": [
    "from sklearn.preprocessing import StandardScaler\n",
    "\n",
    "def extract_features(images):\n",
    "    features = []\n",
    "\n",
    "    # For each image in the dataset\n",
    "\n",
    "    for img in images:\n",
    "        # Convert the image to HSV color space\n",
    "\n",
    "        # Reshape the image back to a 2D array\n",
    "        # img_hsv = img_hsv.reshape((height, width, 3))\n",
    "        height, width, _ = img.shape\n",
    "        img_hsv = cv2.cvtColor(img, cv2.COLOR_BGR2HSV)\n",
    "\n",
    "        # For each pixel in the image\n",
    "        for i in range(img_hsv.shape[0]):\n",
    "            for j in range(img_hsv.shape[1]):\n",
    "                pixel = img_hsv[i, j]\n",
    "                h, s, v = pixel\n",
    "                \n",
    "                # Normalize spatial features\n",
    "                # Normalize spatial features\n",
    "                x, y = i, j\n",
    "                \n",
    "                h_weight = 0.2\n",
    "                s_weight = 0.2\n",
    "                v_weight = 0.1\n",
    "                color_weight = h_weight + s_weight + v_weight\n",
    "                spatial_weight = 1 - (color_weight)\n",
    "                h, s, v = h * color_weight, s * color_weight, v * color_weight\n",
    "                x, y = x * spatial_weight, y * spatial_weight    \n",
    "\n",
    "                # Now you can use h, s, v and x, y values\n",
    "                features.append((h, s, v, x, y))\n",
    "\n",
    "    return features"
   ]
  },
  {
   "cell_type": "code",
   "execution_count": null,
   "metadata": {},
   "outputs": [],
   "source": [
    "def process_images(images):\n",
    "    features = []\n",
    "    for img in images:\n",
    "        # Reshape the image back to a 2D array\n",
    "        # img = cv2.cvtColor(img, cv2.COLOR_BGR2HSV)\n",
    "        height, width, _ = img.shape\n",
    "        img = img.reshape((height, width, 3))\n",
    "        img_hsv = cv2.cvtColor(img, cv2.COLOR_BGR2HSV)\n",
    "\n",
    "        # For each pixel in the image\n",
    "        for i in range(img_hsv.shape[0]):\n",
    "            for j in range(img_hsv.shape[1]):\n",
    "                pixel = img_hsv[i, j]\n",
    "                b, g, r = pixel\n",
    "                \n",
    "                # Normalize color features\n",
    "                r, g, b = r / 255, g / 255, b / 255\n",
    "\n",
    "                # Normalize spatial features\n",
    "                x, y = i / height, j / width\n",
    "\n",
    "                red_weight = 0.2\n",
    "                blue_weight = 0.2\n",
    "                green_weight = 0.05\n",
    "                color_weight = red_weight + green_weight + blue_weight\n",
    "                spatial_weight = 1 - (color_weight)\n",
    "                r, g, b = r * color_weight, g * color_weight, b * color_weight\n",
    "                x, y = x * spatial_weight, y * spatial_weight    \n",
    "                # Now you can use r, g, b and x, y values\n",
    "                features.append((r, g, b, x, y))\n",
    "\n",
    "    return features"
   ]
  },
  {
   "cell_type": "code",
   "execution_count": null,
   "metadata": {},
   "outputs": [],
   "source": [
    "def process_images2(images):\n",
    "    features = []\n",
    "    for img in images:\n",
    "        # Reshape the image back to a 2D array\n",
    "        height, width, _ = img.shape\n",
    "        img = img.reshape((height, width, 3))\n",
    "        img_hsv = cv2.cvtColor(img, cv2.COLOR_BGR2HSV)\n",
    "\n",
    "        # For each pixel in the image\n",
    "        for i in range(img_hsv.shape[0]):\n",
    "            for j in range(img_hsv.shape[1]):\n",
    "                pixel = img_hsv[i, j]\n",
    "                h, s, v = pixel\n",
    "\n",
    "                # Normalize color features\n",
    "                min_pixel = np.min(pixel)\n",
    "                max_pixel = np.max(pixel)\n",
    "                new_min = 0\n",
    "                new_max = 1\n",
    "\n",
    "                h = (h - min_pixel) * (new_max - new_min) / (max_pixel - min_pixel) + new_min\n",
    "                s = (s - min_pixel) * (new_max - new_min) / (max_pixel - min_pixel) + new_min\n",
    "                v = (v - min_pixel) * (new_max - new_min) / (max_pixel - min_pixel) + new_min\n",
    "\n",
    "                # Normalize spatial features\n",
    "                x, y = i / height, j / width\n",
    "\n",
    "                hue_weight = 0.4\n",
    "                saturation_weight = 0.3\n",
    "                value_weight = 0.1\n",
    "                color_weight = hue_weight + saturation_weight + value_weight\n",
    "                spatial_weight = 1 - (color_weight)\n",
    "                h, s, v = h * hue_weight, s * saturation_weight, v * value_weight\n",
    "                x, y = x * spatial_weight, y * spatial_weight\n",
    "                \n",
    "\n",
    "                # Now you can use h, s, v and x, y values\n",
    "                features.append((h, s, v, x, y))\n",
    "\n",
    "    return features\n"
   ]
  },
  {
   "cell_type": "code",
   "execution_count": null,
   "metadata": {},
   "outputs": [],
   "source": [
    "features = process_images2(images)\n",
    "print(features, type(features[0]))"
   ]
  },
  {
   "cell_type": "code",
   "execution_count": null,
   "metadata": {},
   "outputs": [],
   "source": [
    "from sklearn.preprocessing import StandardScaler\n",
    "\n",
    "# Assume features is a 2D array where each row is a feature vector\n",
    "scaler = StandardScaler()\n",
    "features = scaler.fit_transform(features)\n"
   ]
  },
  {
   "cell_type": "code",
   "execution_count": null,
   "metadata": {},
   "outputs": [],
   "source": [
    "def classify(datapoints, labels):\n",
    "    test_size = 0.2\n",
    "    X_train, X_test = train_test_split(datapoints, test_size=test_size, random_state=42)\n",
    "\n",
    "    kmeans = KMeans(n_clusters=100, random_state=42)\n",
    "\n",
    "    kmeans.fit(X_train)\n",
    "\n",
    "    y_pred = kmeans.predict(X_test)\n",
    "\n",
    "    accuracy = accuracy_score(labels, y_pred)\n",
    "    print(f\"Accuracy: {accuracy * 100:.2f}%\")\n",
    "\n",
    "    return kmeans.labels_"
   ]
  },
  {
   "cell_type": "code",
   "execution_count": null,
   "metadata": {},
   "outputs": [],
   "source": [
    "clusters = classify(images, labels)"
   ]
  },
  {
   "cell_type": "code",
   "execution_count": null,
   "metadata": {},
   "outputs": [],
   "source": [
    "from sklearn.cluster import KMeans\n",
    "\n",
    "# Assume k is the number of clusters\n",
    "kmeans = KMeans(n_clusters=5)\n",
    "clusters = kmeans.fit_predict(features)\n"
   ]
  },
  {
   "cell_type": "code",
   "execution_count": null,
   "metadata": {},
   "outputs": [],
   "source": [
    "labels = kmeans.predict(features)\n",
    "labels = labels.reshape(images.shape[0], images.shape[1], images.shape[2])"
   ]
  },
  {
   "cell_type": "code",
   "execution_count": null,
   "metadata": {},
   "outputs": [],
   "source": [
    "# Assume clusters is a 1D array where each element is the cluster ID of a feature\n",
    "for cluster_id in np.unique(clusters):\n",
    "    # Get the features in the cluster\n",
    "    cluster_features = features[clusters == cluster_id]\n",
    "    \n",
    "    # Calculate the average distance between the pixels\n",
    "    avg_distance = np.mean(np.sqrt(np.sum((cluster_features[:, 3:5] - cluster_features[:, 3:5].mean(axis=0))**2, axis=1)))\n",
    "    \n",
    "    # Calculate the standard deviation of the color features\n",
    "    color_std = np.std(cluster_features[:, :3], axis=0)\n",
    "    \n",
    "    # Print the results\n",
    "    print(f\"Cluster {cluster_id}: average distance = {avg_distance}, color standard deviation = {color_std}\")\n"
   ]
  },
  {
   "cell_type": "code",
   "execution_count": null,
   "metadata": {},
   "outputs": [],
   "source": [
    "import numpy as np\n",
    "import matplotlib.pyplot as plt\n",
    "\n",
    "clusters = np.array(clusters)\n",
    "features = np.array(features)\n",
    "\n",
    "\n",
    "# Assume clusters is a 1D array where each element is the cluster ID of a feature\n",
    "# and features is a 2D array where each row is a feature vector\n",
    "for cluster_id in np.unique(clusters):\n",
    "    # Get the features in the cluster    \n",
    "    cluster_features = features[clusters == cluster_id]\n",
    "    \n",
    "    # Plot the features in the cluster\n",
    "    plt.scatter(cluster_features[:, 3], cluster_features[:, 4], label=f\"Cluster {cluster_id}\")\n",
    "\n",
    "# Add a legend\n",
    "plt.legend()\n",
    "\n",
    "# Show the plot\n",
    "plt.show()\n"
   ]
  },
  {
   "cell_type": "code",
   "execution_count": null,
   "metadata": {},
   "outputs": [],
   "source": [
    "for i, image in enumerate(images[:10]):\n",
    "    for x in range(image.shape[0]):\n",
    "        for y in range(image.shape[1]):\n",
    "            if labels[i, x, y] == 0:\n",
    "                image[x, y, :] = [0, 0, 0]\n",
    "            elif labels[i, x, y] == 1:\n",
    "                image[x, y, :] = [0, 0, 255]\n",
    "            elif labels[i, x, y] == 2:\n",
    "                image[x, y, :] = [0, 255, 0]\n",
    "            elif labels[i, x, y] == 3:\n",
    "                image[x, y, :] = [255, 0, 0]\n",
    "            else:\n",
    "                image[x, y, :] = [255, 255, 255]\n",
    "    cv2.imshow('Image', image)\n",
    "    cv2.waitKey(0)\n",
    "cv2.destroyAllWindows()\n"
   ]
  }
 ],
 "metadata": {
  "colab": {
   "provenance": []
  },
  "kernelspec": {
   "display_name": "Python 3 (ipykernel)",
   "language": "python",
   "name": "python3"
  },
  "language_info": {
   "codemirror_mode": {
    "name": "ipython",
    "version": 3
   },
   "file_extension": ".py",
   "mimetype": "text/x-python",
   "name": "python",
   "nbconvert_exporter": "python",
   "pygments_lexer": "ipython3",
   "version": "3.10.5"
  }
 },
 "nbformat": 4,
 "nbformat_minor": 1
}
